{
 "cells": [
  {
   "cell_type": "code",
   "execution_count": 370,
   "id": "484b9bad",
   "metadata": {},
   "outputs": [],
   "source": [
    "import pandas as pd\n",
    "import seaborn as sns\n",
    "import matplotlib.pyplot as plt\n",
    "import numpy as np\n",
    "import pydotplus\n",
    "import plotly.express as px\n",
    "\n",
    "from IPython.display import Image\n",
    "from sklearn.tree import DecisionTreeClassifier\n",
    "from sklearn.model_selection import train_test_split\n",
    "from sklearn import metrics\n",
    "from sklearn.tree import export_graphviz\n",
    "from io import StringIO\n",
    "\n",
    "%matplotlib inline"
   ]
  },
  {
   "cell_type": "code",
   "execution_count": 371,
   "id": "fee97fd2",
   "metadata": {},
   "outputs": [],
   "source": [
    "neighberhood_poverty = pd.read_csv(r\"C:\\Users\\lisan\\Downloads\\NYC EH Data Portal - Neighborhood poverty (full).csv\",thousands = \",\")\n",
    "evictions = pd.read_csv(r\"C:\\Users\\lisan\\Downloads\\NYC EH Data Portal - Evictions (court-ordered) (full).csv\",thousands = \",\")\n",
    "unemployment = pd.read_csv (r\"C:\\Users\\lisan\\Downloads\\NYC EH Data Portal - Unemployment (full).csv\",thousands = \",\")"
   ]
  },
  {
   "cell_type": "code",
   "execution_count": 372,
   "id": "d67e95ce",
   "metadata": {},
   "outputs": [
    {
     "name": "stdout",
     "output_type": "stream",
     "text": [
      "<class 'pandas.core.frame.DataFrame'>\n",
      "RangeIndex: 3868 entries, 0 to 3867\n",
      "Data columns (total 7 columns):\n",
      " #   Column     Non-Null Count  Dtype  \n",
      "---  ------     --------------  -----  \n",
      " 0   Time       3868 non-null   object \n",
      " 1   GeoType    3868 non-null   object \n",
      " 2   GeoID      3868 non-null   int64  \n",
      " 3   GeoRank    3868 non-null   int64  \n",
      " 4   Geography  3868 non-null   object \n",
      " 5   Number     3868 non-null   int64  \n",
      " 6   Percent    3868 non-null   float64\n",
      "dtypes: float64(1), int64(3), object(3)\n",
      "memory usage: 211.7+ KB\n"
     ]
    }
   ],
   "source": [
    "neighberhood_poverty.info()"
   ]
  },
  {
   "cell_type": "code",
   "execution_count": 373,
   "id": "caf9b349",
   "metadata": {},
   "outputs": [
    {
     "data": {
      "text/html": [
       "<div>\n",
       "<style scoped>\n",
       "    .dataframe tbody tr th:only-of-type {\n",
       "        vertical-align: middle;\n",
       "    }\n",
       "\n",
       "    .dataframe tbody tr th {\n",
       "        vertical-align: top;\n",
       "    }\n",
       "\n",
       "    .dataframe thead th {\n",
       "        text-align: right;\n",
       "    }\n",
       "</style>\n",
       "<table border=\"1\" class=\"dataframe\">\n",
       "  <thead>\n",
       "    <tr style=\"text-align: right;\">\n",
       "      <th></th>\n",
       "      <th>Time</th>\n",
       "      <th>GeoType</th>\n",
       "      <th>GeoID</th>\n",
       "      <th>GeoRank</th>\n",
       "      <th>Geography</th>\n",
       "      <th>Estimated annual rate per 10,000 homes</th>\n",
       "      <th>Number</th>\n",
       "    </tr>\n",
       "  </thead>\n",
       "  <tbody>\n",
       "    <tr>\n",
       "      <th>0</th>\n",
       "      <td>2020</td>\n",
       "      <td>NTA2010</td>\n",
       "      <td>501</td>\n",
       "      <td>8</td>\n",
       "      <td>Claremont-Bathgate</td>\n",
       "      <td>28.6</td>\n",
       "      <td>34</td>\n",
       "    </tr>\n",
       "    <tr>\n",
       "      <th>1</th>\n",
       "      <td>2020</td>\n",
       "      <td>NTA2010</td>\n",
       "      <td>503</td>\n",
       "      <td>8</td>\n",
       "      <td>Eastchester-Edenwald-Baychester</td>\n",
       "      <td>18.8</td>\n",
       "      <td>22</td>\n",
       "    </tr>\n",
       "    <tr>\n",
       "      <th>2</th>\n",
       "      <td>2020</td>\n",
       "      <td>NTA2010</td>\n",
       "      <td>505</td>\n",
       "      <td>8</td>\n",
       "      <td>Bedford Park-Fordham North</td>\n",
       "      <td>20.7</td>\n",
       "      <td>45</td>\n",
       "    </tr>\n",
       "    <tr>\n",
       "      <th>3</th>\n",
       "      <td>2020</td>\n",
       "      <td>NTA2010</td>\n",
       "      <td>506</td>\n",
       "      <td>8</td>\n",
       "      <td>Belmont</td>\n",
       "      <td>29.6</td>\n",
       "      <td>30</td>\n",
       "    </tr>\n",
       "    <tr>\n",
       "      <th>4</th>\n",
       "      <td>2020</td>\n",
       "      <td>NTA2010</td>\n",
       "      <td>507</td>\n",
       "      <td>8</td>\n",
       "      <td>Bronxdale</td>\n",
       "      <td>21.3</td>\n",
       "      <td>24</td>\n",
       "    </tr>\n",
       "  </tbody>\n",
       "</table>\n",
       "</div>"
      ],
      "text/plain": [
       "   Time  GeoType  GeoID  GeoRank                        Geography  \\\n",
       "0  2020  NTA2010    501        8               Claremont-Bathgate   \n",
       "1  2020  NTA2010    503        8  Eastchester-Edenwald-Baychester   \n",
       "2  2020  NTA2010    505        8       Bedford Park-Fordham North   \n",
       "3  2020  NTA2010    506        8                          Belmont   \n",
       "4  2020  NTA2010    507        8                        Bronxdale   \n",
       "\n",
       "  Estimated annual rate per 10,000 homes  Number  \n",
       "0                                   28.6      34  \n",
       "1                                   18.8      22  \n",
       "2                                   20.7      45  \n",
       "3                                   29.6      30  \n",
       "4                                   21.3      24  "
      ]
     },
     "execution_count": 373,
     "metadata": {},
     "output_type": "execute_result"
    }
   ],
   "source": [
    "evictions.head()"
   ]
  },
  {
   "cell_type": "code",
   "execution_count": 374,
   "id": "4cd9c221",
   "metadata": {},
   "outputs": [
    {
     "name": "stdout",
     "output_type": "stream",
     "text": [
      "<class 'pandas.core.frame.DataFrame'>\n",
      "RangeIndex: 3868 entries, 0 to 3867\n",
      "Data columns (total 7 columns):\n",
      " #   Column     Non-Null Count  Dtype  \n",
      "---  ------     --------------  -----  \n",
      " 0   Time       3868 non-null   object \n",
      " 1   GeoType    3868 non-null   object \n",
      " 2   GeoID      3868 non-null   int64  \n",
      " 3   GeoRank    3868 non-null   int64  \n",
      " 4   Geography  3868 non-null   object \n",
      " 5   Number     3868 non-null   int64  \n",
      " 6   Percent    3868 non-null   float64\n",
      "dtypes: float64(1), int64(3), object(3)\n",
      "memory usage: 211.7+ KB\n"
     ]
    }
   ],
   "source": [
    "unemployment.info()"
   ]
  },
  {
   "cell_type": "code",
   "execution_count": 375,
   "id": "806a0a7e",
   "metadata": {},
   "outputs": [],
   "source": [
    "poverty_unemployment = neighberhood_poverty.merge(unemployment, on = [\"GeoID\", \"Time\",\"GeoType\"], suffixes=(\"_neighberhood_poverty\", \"_unemployment\"))"
   ]
  },
  {
   "cell_type": "code",
   "execution_count": 376,
   "id": "99492056",
   "metadata": {},
   "outputs": [
    {
     "data": {
      "text/html": [
       "<div>\n",
       "<style scoped>\n",
       "    .dataframe tbody tr th:only-of-type {\n",
       "        vertical-align: middle;\n",
       "    }\n",
       "\n",
       "    .dataframe tbody tr th {\n",
       "        vertical-align: top;\n",
       "    }\n",
       "\n",
       "    .dataframe thead th {\n",
       "        text-align: right;\n",
       "    }\n",
       "</style>\n",
       "<table border=\"1\" class=\"dataframe\">\n",
       "  <thead>\n",
       "    <tr style=\"text-align: right;\">\n",
       "      <th></th>\n",
       "      <th>Time</th>\n",
       "      <th>GeoType</th>\n",
       "      <th>GeoID</th>\n",
       "      <th>GeoRank_neighberhood_poverty</th>\n",
       "      <th>Geography_neighberhood_poverty</th>\n",
       "      <th>Number_neighberhood_poverty</th>\n",
       "      <th>Percent_neighberhood_poverty</th>\n",
       "      <th>GeoRank_unemployment</th>\n",
       "      <th>Geography_unemployment</th>\n",
       "      <th>Number_unemployment</th>\n",
       "      <th>Percent_unemployment</th>\n",
       "    </tr>\n",
       "  </thead>\n",
       "  <tbody>\n",
       "    <tr>\n",
       "      <th>0</th>\n",
       "      <td>2017-21</td>\n",
       "      <td>NTA2020</td>\n",
       "      <td>50101</td>\n",
       "      <td>9</td>\n",
       "      <td>Mott Haven-Port Morris</td>\n",
       "      <td>23752</td>\n",
       "      <td>43.7</td>\n",
       "      <td>9</td>\n",
       "      <td>Mott Haven-Port Morris</td>\n",
       "      <td>2423</td>\n",
       "      <td>11.6</td>\n",
       "    </tr>\n",
       "    <tr>\n",
       "      <th>1</th>\n",
       "      <td>2017-21</td>\n",
       "      <td>NTA2020</td>\n",
       "      <td>50102</td>\n",
       "      <td>9</td>\n",
       "      <td>Melrose</td>\n",
       "      <td>17284</td>\n",
       "      <td>40.7</td>\n",
       "      <td>9</td>\n",
       "      <td>Melrose</td>\n",
       "      <td>2291</td>\n",
       "      <td>13.3</td>\n",
       "    </tr>\n",
       "    <tr>\n",
       "      <th>2</th>\n",
       "      <td>2017-21</td>\n",
       "      <td>NTA2020</td>\n",
       "      <td>50201</td>\n",
       "      <td>9</td>\n",
       "      <td>Hunts Point</td>\n",
       "      <td>4696</td>\n",
       "      <td>34.3</td>\n",
       "      <td>9</td>\n",
       "      <td>Hunts Point</td>\n",
       "      <td>1026</td>\n",
       "      <td>16.3</td>\n",
       "    </tr>\n",
       "    <tr>\n",
       "      <th>3</th>\n",
       "      <td>2017-21</td>\n",
       "      <td>NTA2020</td>\n",
       "      <td>50202</td>\n",
       "      <td>9</td>\n",
       "      <td>Longwood</td>\n",
       "      <td>12751</td>\n",
       "      <td>32.0</td>\n",
       "      <td>9</td>\n",
       "      <td>Longwood</td>\n",
       "      <td>2705</td>\n",
       "      <td>14.7</td>\n",
       "    </tr>\n",
       "    <tr>\n",
       "      <th>4</th>\n",
       "      <td>2017-21</td>\n",
       "      <td>NTA2020</td>\n",
       "      <td>50301</td>\n",
       "      <td>9</td>\n",
       "      <td>Morrisania</td>\n",
       "      <td>12615</td>\n",
       "      <td>35.7</td>\n",
       "      <td>9</td>\n",
       "      <td>Morrisania</td>\n",
       "      <td>2287</td>\n",
       "      <td>14.5</td>\n",
       "    </tr>\n",
       "    <tr>\n",
       "      <th>...</th>\n",
       "      <td>...</td>\n",
       "      <td>...</td>\n",
       "      <td>...</td>\n",
       "      <td>...</td>\n",
       "      <td>...</td>\n",
       "      <td>...</td>\n",
       "      <td>...</td>\n",
       "      <td>...</td>\n",
       "      <td>...</td>\n",
       "      <td>...</td>\n",
       "      <td>...</td>\n",
       "    </tr>\n",
       "    <tr>\n",
       "      <th>95</th>\n",
       "      <td>2017-21</td>\n",
       "      <td>NTA2020</td>\n",
       "      <td>610301</td>\n",
       "      <td>9</td>\n",
       "      <td>Chinatown-Two Bridges</td>\n",
       "      <td>13389</td>\n",
       "      <td>32.4</td>\n",
       "      <td>9</td>\n",
       "      <td>Chinatown-Two Bridges</td>\n",
       "      <td>1892</td>\n",
       "      <td>11.1</td>\n",
       "    </tr>\n",
       "    <tr>\n",
       "      <th>96</th>\n",
       "      <td>2017-21</td>\n",
       "      <td>NTA2020</td>\n",
       "      <td>610302</td>\n",
       "      <td>9</td>\n",
       "      <td>Lower East Side</td>\n",
       "      <td>11082</td>\n",
       "      <td>24.9</td>\n",
       "      <td>9</td>\n",
       "      <td>Lower East Side</td>\n",
       "      <td>1259</td>\n",
       "      <td>5.5</td>\n",
       "    </tr>\n",
       "    <tr>\n",
       "      <th>97</th>\n",
       "      <td>2017-21</td>\n",
       "      <td>NTA2020</td>\n",
       "      <td>610303</td>\n",
       "      <td>9</td>\n",
       "      <td>East Village</td>\n",
       "      <td>15864</td>\n",
       "      <td>24.3</td>\n",
       "      <td>9</td>\n",
       "      <td>East Village</td>\n",
       "      <td>2257</td>\n",
       "      <td>5.5</td>\n",
       "    </tr>\n",
       "    <tr>\n",
       "      <th>98</th>\n",
       "      <td>2017-21</td>\n",
       "      <td>NTA2020</td>\n",
       "      <td>610401</td>\n",
       "      <td>9</td>\n",
       "      <td>Chelsea-Hudson Yards</td>\n",
       "      <td>7121</td>\n",
       "      <td>11.5</td>\n",
       "      <td>9</td>\n",
       "      <td>Chelsea-Hudson Yards</td>\n",
       "      <td>1890</td>\n",
       "      <td>4.4</td>\n",
       "    </tr>\n",
       "    <tr>\n",
       "      <th>99</th>\n",
       "      <td>2017-21</td>\n",
       "      <td>NTA2020</td>\n",
       "      <td>610402</td>\n",
       "      <td>9</td>\n",
       "      <td>Hell's Kitchen</td>\n",
       "      <td>7718</td>\n",
       "      <td>14.0</td>\n",
       "      <td>9</td>\n",
       "      <td>Hell's Kitchen</td>\n",
       "      <td>2562</td>\n",
       "      <td>6.8</td>\n",
       "    </tr>\n",
       "  </tbody>\n",
       "</table>\n",
       "<p>100 rows × 11 columns</p>\n",
       "</div>"
      ],
      "text/plain": [
       "       Time  GeoType   GeoID  GeoRank_neighberhood_poverty  \\\n",
       "0   2017-21  NTA2020   50101                             9   \n",
       "1   2017-21  NTA2020   50102                             9   \n",
       "2   2017-21  NTA2020   50201                             9   \n",
       "3   2017-21  NTA2020   50202                             9   \n",
       "4   2017-21  NTA2020   50301                             9   \n",
       "..      ...      ...     ...                           ...   \n",
       "95  2017-21  NTA2020  610301                             9   \n",
       "96  2017-21  NTA2020  610302                             9   \n",
       "97  2017-21  NTA2020  610303                             9   \n",
       "98  2017-21  NTA2020  610401                             9   \n",
       "99  2017-21  NTA2020  610402                             9   \n",
       "\n",
       "   Geography_neighberhood_poverty  Number_neighberhood_poverty  \\\n",
       "0          Mott Haven-Port Morris                        23752   \n",
       "1                         Melrose                        17284   \n",
       "2                     Hunts Point                         4696   \n",
       "3                        Longwood                        12751   \n",
       "4                      Morrisania                        12615   \n",
       "..                            ...                          ...   \n",
       "95          Chinatown-Two Bridges                        13389   \n",
       "96                Lower East Side                        11082   \n",
       "97                   East Village                        15864   \n",
       "98           Chelsea-Hudson Yards                         7121   \n",
       "99                 Hell's Kitchen                         7718   \n",
       "\n",
       "    Percent_neighberhood_poverty  GeoRank_unemployment  \\\n",
       "0                           43.7                     9   \n",
       "1                           40.7                     9   \n",
       "2                           34.3                     9   \n",
       "3                           32.0                     9   \n",
       "4                           35.7                     9   \n",
       "..                           ...                   ...   \n",
       "95                          32.4                     9   \n",
       "96                          24.9                     9   \n",
       "97                          24.3                     9   \n",
       "98                          11.5                     9   \n",
       "99                          14.0                     9   \n",
       "\n",
       "    Geography_unemployment  Number_unemployment  Percent_unemployment  \n",
       "0   Mott Haven-Port Morris                 2423                  11.6  \n",
       "1                  Melrose                 2291                  13.3  \n",
       "2              Hunts Point                 1026                  16.3  \n",
       "3                 Longwood                 2705                  14.7  \n",
       "4               Morrisania                 2287                  14.5  \n",
       "..                     ...                  ...                   ...  \n",
       "95   Chinatown-Two Bridges                 1892                  11.1  \n",
       "96         Lower East Side                 1259                   5.5  \n",
       "97            East Village                 2257                   5.5  \n",
       "98    Chelsea-Hudson Yards                 1890                   4.4  \n",
       "99          Hell's Kitchen                 2562                   6.8  \n",
       "\n",
       "[100 rows x 11 columns]"
      ]
     },
     "execution_count": 376,
     "metadata": {},
     "output_type": "execute_result"
    }
   ],
   "source": [
    "poverty_unemployment.head(100)"
   ]
  },
  {
   "cell_type": "code",
   "execution_count": 377,
   "id": "e0417efa",
   "metadata": {},
   "outputs": [],
   "source": [
    "time_sort = poverty_unemployment.loc[poverty_unemployment['Time'] == '2017-21']\n",
    "geo_sort = poverty_unemployment.loc[poverty_unemployment['GeoType'] == 'Borough']\n",
    "combined_selection = time_sort.loc[time_sort.index.isin(geo_sort.index)]"
   ]
  },
  {
   "cell_type": "code",
   "execution_count": 378,
   "id": "2f27f821",
   "metadata": {},
   "outputs": [
    {
     "data": {
      "text/html": [
       "<div>\n",
       "<style scoped>\n",
       "    .dataframe tbody tr th:only-of-type {\n",
       "        vertical-align: middle;\n",
       "    }\n",
       "\n",
       "    .dataframe tbody tr th {\n",
       "        vertical-align: top;\n",
       "    }\n",
       "\n",
       "    .dataframe thead th {\n",
       "        text-align: right;\n",
       "    }\n",
       "</style>\n",
       "<table border=\"1\" class=\"dataframe\">\n",
       "  <thead>\n",
       "    <tr style=\"text-align: right;\">\n",
       "      <th></th>\n",
       "      <th>Time</th>\n",
       "      <th>Borough</th>\n",
       "      <th>Percent_neighberhood_poverty</th>\n",
       "      <th>Number_unemployment</th>\n",
       "    </tr>\n",
       "  </thead>\n",
       "  <tbody>\n",
       "    <tr>\n",
       "      <th>1</th>\n",
       "      <td>2017-21</td>\n",
       "      <td>Bronx</td>\n",
       "      <td>26.5</td>\n",
       "      <td>75431</td>\n",
       "    </tr>\n",
       "    <tr>\n",
       "      <th>2</th>\n",
       "      <td>2017-21</td>\n",
       "      <td>Brooklyn</td>\n",
       "      <td>18.8</td>\n",
       "      <td>97387</td>\n",
       "    </tr>\n",
       "    <tr>\n",
       "      <th>3</th>\n",
       "      <td>2017-21</td>\n",
       "      <td>Manhattan</td>\n",
       "      <td>15.6</td>\n",
       "      <td>64396</td>\n",
       "    </tr>\n",
       "    <tr>\n",
       "      <th>4</th>\n",
       "      <td>2017-21</td>\n",
       "      <td>Queens</td>\n",
       "      <td>11.4</td>\n",
       "      <td>87222</td>\n",
       "    </tr>\n",
       "    <tr>\n",
       "      <th>5</th>\n",
       "      <td>2017-21</td>\n",
       "      <td>Staten Island</td>\n",
       "      <td>10.3</td>\n",
       "      <td>12957</td>\n",
       "    </tr>\n",
       "  </tbody>\n",
       "</table>\n",
       "</div>"
      ],
      "text/plain": [
       "      Time        Borough  Percent_neighberhood_poverty  Number_unemployment\n",
       "1  2017-21          Bronx                          26.5                75431\n",
       "2  2017-21       Brooklyn                          18.8                97387\n",
       "3  2017-21      Manhattan                          15.6                64396\n",
       "4  2017-21         Queens                          11.4                87222\n",
       "5  2017-21  Staten Island                          10.3                12957"
      ]
     },
     "execution_count": 378,
     "metadata": {},
     "output_type": "execute_result"
    }
   ],
   "source": [
    "combined_selection = combined_selection.reset_index(drop=True)\n",
    "combined_selection.index = combined_selection.index + 1\n",
    "combined_selection = combined_selection.loc[:, ['Time','Geography_neighberhood_poverty','Percent_neighberhood_poverty', 'Number_unemployment']].rename(columns={'Geography_neighberhood_poverty': 'Borough'})\n",
    "combined_selection"
   ]
  },
  {
   "cell_type": "code",
   "execution_count": 393,
   "id": "9447008d",
   "metadata": {},
   "outputs": [
    {
     "data": {
      "text/html": [
       "<div>\n",
       "<style scoped>\n",
       "    .dataframe tbody tr th:only-of-type {\n",
       "        vertical-align: middle;\n",
       "    }\n",
       "\n",
       "    .dataframe tbody tr th {\n",
       "        vertical-align: top;\n",
       "    }\n",
       "\n",
       "    .dataframe thead th {\n",
       "        text-align: right;\n",
       "    }\n",
       "</style>\n",
       "<table border=\"1\" class=\"dataframe\">\n",
       "  <thead>\n",
       "    <tr style=\"text-align: right;\">\n",
       "      <th></th>\n",
       "      <th>Time</th>\n",
       "      <th>GeoType</th>\n",
       "      <th>GeoID</th>\n",
       "      <th>GeoRank_neighberhood_poverty</th>\n",
       "      <th>Geography_neighberhood_poverty</th>\n",
       "      <th>Number_neighberhood_poverty</th>\n",
       "      <th>Percent_neighberhood_poverty</th>\n",
       "      <th>GeoRank_unemployment</th>\n",
       "      <th>Geography_unemployment</th>\n",
       "      <th>Number_unemployment</th>\n",
       "      <th>Percent_unemployment</th>\n",
       "    </tr>\n",
       "  </thead>\n",
       "  <tbody>\n",
       "    <tr>\n",
       "      <th>0</th>\n",
       "      <td>2017-21</td>\n",
       "      <td>NTA2020</td>\n",
       "      <td>50101</td>\n",
       "      <td>9</td>\n",
       "      <td>Mott Haven-Port Morris</td>\n",
       "      <td>23752</td>\n",
       "      <td>43.7</td>\n",
       "      <td>9</td>\n",
       "      <td>Mott Haven-Port Morris</td>\n",
       "      <td>2423</td>\n",
       "      <td>11.6</td>\n",
       "    </tr>\n",
       "    <tr>\n",
       "      <th>1</th>\n",
       "      <td>2017-21</td>\n",
       "      <td>NTA2020</td>\n",
       "      <td>50102</td>\n",
       "      <td>9</td>\n",
       "      <td>Melrose</td>\n",
       "      <td>17284</td>\n",
       "      <td>40.7</td>\n",
       "      <td>9</td>\n",
       "      <td>Melrose</td>\n",
       "      <td>2291</td>\n",
       "      <td>13.3</td>\n",
       "    </tr>\n",
       "    <tr>\n",
       "      <th>2</th>\n",
       "      <td>2017-21</td>\n",
       "      <td>NTA2020</td>\n",
       "      <td>50201</td>\n",
       "      <td>9</td>\n",
       "      <td>Hunts Point</td>\n",
       "      <td>4696</td>\n",
       "      <td>34.3</td>\n",
       "      <td>9</td>\n",
       "      <td>Hunts Point</td>\n",
       "      <td>1026</td>\n",
       "      <td>16.3</td>\n",
       "    </tr>\n",
       "    <tr>\n",
       "      <th>3</th>\n",
       "      <td>2017-21</td>\n",
       "      <td>NTA2020</td>\n",
       "      <td>50202</td>\n",
       "      <td>9</td>\n",
       "      <td>Longwood</td>\n",
       "      <td>12751</td>\n",
       "      <td>32.0</td>\n",
       "      <td>9</td>\n",
       "      <td>Longwood</td>\n",
       "      <td>2705</td>\n",
       "      <td>14.7</td>\n",
       "    </tr>\n",
       "    <tr>\n",
       "      <th>4</th>\n",
       "      <td>2017-21</td>\n",
       "      <td>NTA2020</td>\n",
       "      <td>50301</td>\n",
       "      <td>9</td>\n",
       "      <td>Morrisania</td>\n",
       "      <td>12615</td>\n",
       "      <td>35.7</td>\n",
       "      <td>9</td>\n",
       "      <td>Morrisania</td>\n",
       "      <td>2287</td>\n",
       "      <td>14.5</td>\n",
       "    </tr>\n",
       "    <tr>\n",
       "      <th>...</th>\n",
       "      <td>...</td>\n",
       "      <td>...</td>\n",
       "      <td>...</td>\n",
       "      <td>...</td>\n",
       "      <td>...</td>\n",
       "      <td>...</td>\n",
       "      <td>...</td>\n",
       "      <td>...</td>\n",
       "      <td>...</td>\n",
       "      <td>...</td>\n",
       "      <td>...</td>\n",
       "    </tr>\n",
       "    <tr>\n",
       "      <th>348</th>\n",
       "      <td>2017-21</td>\n",
       "      <td>UHF42</td>\n",
       "      <td>410</td>\n",
       "      <td>4</td>\n",
       "      <td>Rockaways</td>\n",
       "      <td>23622</td>\n",
       "      <td>18.0</td>\n",
       "      <td>4</td>\n",
       "      <td>Rockaways</td>\n",
       "      <td>5431</td>\n",
       "      <td>9.1</td>\n",
       "    </tr>\n",
       "    <tr>\n",
       "      <th>349</th>\n",
       "      <td>2017-21</td>\n",
       "      <td>UHF42</td>\n",
       "      <td>501</td>\n",
       "      <td>4</td>\n",
       "      <td>Port Richmond</td>\n",
       "      <td>12098</td>\n",
       "      <td>17.0</td>\n",
       "      <td>4</td>\n",
       "      <td>Port Richmond</td>\n",
       "      <td>1921</td>\n",
       "      <td>5.7</td>\n",
       "    </tr>\n",
       "    <tr>\n",
       "      <th>350</th>\n",
       "      <td>2017-21</td>\n",
       "      <td>UHF42</td>\n",
       "      <td>502</td>\n",
       "      <td>4</td>\n",
       "      <td>Stapleton - St. George</td>\n",
       "      <td>16179</td>\n",
       "      <td>13.0</td>\n",
       "      <td>4</td>\n",
       "      <td>Stapleton - St. George</td>\n",
       "      <td>3797</td>\n",
       "      <td>6.2</td>\n",
       "    </tr>\n",
       "    <tr>\n",
       "      <th>351</th>\n",
       "      <td>2017-21</td>\n",
       "      <td>UHF42</td>\n",
       "      <td>503</td>\n",
       "      <td>4</td>\n",
       "      <td>Willowbrook</td>\n",
       "      <td>8652</td>\n",
       "      <td>9.3</td>\n",
       "      <td>4</td>\n",
       "      <td>Willowbrook</td>\n",
       "      <td>2459</td>\n",
       "      <td>5.5</td>\n",
       "    </tr>\n",
       "    <tr>\n",
       "      <th>352</th>\n",
       "      <td>2017-21</td>\n",
       "      <td>UHF42</td>\n",
       "      <td>504</td>\n",
       "      <td>4</td>\n",
       "      <td>South Beach - Tottenville</td>\n",
       "      <td>13353</td>\n",
       "      <td>6.7</td>\n",
       "      <td>4</td>\n",
       "      <td>South Beach - Tottenville</td>\n",
       "      <td>4780</td>\n",
       "      <td>4.9</td>\n",
       "    </tr>\n",
       "  </tbody>\n",
       "</table>\n",
       "<p>353 rows × 11 columns</p>\n",
       "</div>"
      ],
      "text/plain": [
       "        Time  GeoType  GeoID  GeoRank_neighberhood_poverty  \\\n",
       "0    2017-21  NTA2020  50101                             9   \n",
       "1    2017-21  NTA2020  50102                             9   \n",
       "2    2017-21  NTA2020  50201                             9   \n",
       "3    2017-21  NTA2020  50202                             9   \n",
       "4    2017-21  NTA2020  50301                             9   \n",
       "..       ...      ...    ...                           ...   \n",
       "348  2017-21    UHF42    410                             4   \n",
       "349  2017-21    UHF42    501                             4   \n",
       "350  2017-21    UHF42    502                             4   \n",
       "351  2017-21    UHF42    503                             4   \n",
       "352  2017-21    UHF42    504                             4   \n",
       "\n",
       "    Geography_neighberhood_poverty  Number_neighberhood_poverty  \\\n",
       "0           Mott Haven-Port Morris                        23752   \n",
       "1                          Melrose                        17284   \n",
       "2                      Hunts Point                         4696   \n",
       "3                         Longwood                        12751   \n",
       "4                       Morrisania                        12615   \n",
       "..                             ...                          ...   \n",
       "348                      Rockaways                        23622   \n",
       "349                  Port Richmond                        12098   \n",
       "350         Stapleton - St. George                        16179   \n",
       "351                    Willowbrook                         8652   \n",
       "352      South Beach - Tottenville                        13353   \n",
       "\n",
       "     Percent_neighberhood_poverty  GeoRank_unemployment  \\\n",
       "0                            43.7                     9   \n",
       "1                            40.7                     9   \n",
       "2                            34.3                     9   \n",
       "3                            32.0                     9   \n",
       "4                            35.7                     9   \n",
       "..                            ...                   ...   \n",
       "348                          18.0                     4   \n",
       "349                          17.0                     4   \n",
       "350                          13.0                     4   \n",
       "351                           9.3                     4   \n",
       "352                           6.7                     4   \n",
       "\n",
       "        Geography_unemployment  Number_unemployment  Percent_unemployment  \n",
       "0       Mott Haven-Port Morris                 2423                  11.6  \n",
       "1                      Melrose                 2291                  13.3  \n",
       "2                  Hunts Point                 1026                  16.3  \n",
       "3                     Longwood                 2705                  14.7  \n",
       "4                   Morrisania                 2287                  14.5  \n",
       "..                         ...                  ...                   ...  \n",
       "348                  Rockaways                 5431                   9.1  \n",
       "349              Port Richmond                 1921                   5.7  \n",
       "350     Stapleton - St. George                 3797                   6.2  \n",
       "351                Willowbrook                 2459                   5.5  \n",
       "352  South Beach - Tottenville                 4780                   4.9  \n",
       "\n",
       "[353 rows x 11 columns]"
      ]
     },
     "execution_count": 393,
     "metadata": {},
     "output_type": "execute_result"
    }
   ],
   "source": [
    "time_sort2= poverty_unemployment.loc[poverty_unemployment['Time'] == '2017-21']\n",
    "geo_sort2 = poverty_unemployment.loc[poverty_unemployment['GeoType'] != 'Borough']\n",
    "geo_sort2 = geo_sort2.loc[poverty_unemployment['GeoType'] != 'Citywide']\n",
    "combined_selection2 = time_sort2.loc[time_sort2.index.isin(geo_sort2.index)]\n",
    "combined_selection2"
   ]
  },
  {
   "cell_type": "code",
   "execution_count": 394,
   "id": "31aab10a",
   "metadata": {},
   "outputs": [
    {
     "data": {
      "text/html": [
       "<div>\n",
       "<style scoped>\n",
       "    .dataframe tbody tr th:only-of-type {\n",
       "        vertical-align: middle;\n",
       "    }\n",
       "\n",
       "    .dataframe tbody tr th {\n",
       "        vertical-align: top;\n",
       "    }\n",
       "\n",
       "    .dataframe thead th {\n",
       "        text-align: right;\n",
       "    }\n",
       "</style>\n",
       "<table border=\"1\" class=\"dataframe\">\n",
       "  <thead>\n",
       "    <tr style=\"text-align: right;\">\n",
       "      <th></th>\n",
       "      <th>Time</th>\n",
       "      <th>Geography_neighberhood_poverty</th>\n",
       "      <th>Number_neighberhood_poverty</th>\n",
       "      <th>Number_unemployment</th>\n",
       "    </tr>\n",
       "  </thead>\n",
       "  <tbody>\n",
       "    <tr>\n",
       "      <th>1</th>\n",
       "      <td>2017-21</td>\n",
       "      <td>Mount Eden-Claremont (West)</td>\n",
       "      <td>16703</td>\n",
       "      <td>3769</td>\n",
       "    </tr>\n",
       "    <tr>\n",
       "      <th>2</th>\n",
       "      <td>2017-21</td>\n",
       "      <td>Bedford Park</td>\n",
       "      <td>14100</td>\n",
       "      <td>3629</td>\n",
       "    </tr>\n",
       "    <tr>\n",
       "      <th>3</th>\n",
       "      <td>2017-21</td>\n",
       "      <td>University Heights (South)-Morris Heights</td>\n",
       "      <td>18886</td>\n",
       "      <td>3520</td>\n",
       "    </tr>\n",
       "    <tr>\n",
       "      <th>4</th>\n",
       "      <td>2017-21</td>\n",
       "      <td>Concourse-Concourse Village</td>\n",
       "      <td>21730</td>\n",
       "      <td>3205</td>\n",
       "    </tr>\n",
       "    <tr>\n",
       "      <th>5</th>\n",
       "      <td>2017-21</td>\n",
       "      <td>University Heights (North)-Fordham</td>\n",
       "      <td>11856</td>\n",
       "      <td>3080</td>\n",
       "    </tr>\n",
       "    <tr>\n",
       "      <th>6</th>\n",
       "      <td>2017-21</td>\n",
       "      <td>Mount Hope</td>\n",
       "      <td>14696</td>\n",
       "      <td>2804</td>\n",
       "    </tr>\n",
       "    <tr>\n",
       "      <th>7</th>\n",
       "      <td>2017-21</td>\n",
       "      <td>Longwood</td>\n",
       "      <td>12751</td>\n",
       "      <td>2705</td>\n",
       "    </tr>\n",
       "    <tr>\n",
       "      <th>8</th>\n",
       "      <td>2017-21</td>\n",
       "      <td>Belmont</td>\n",
       "      <td>12919</td>\n",
       "      <td>2399</td>\n",
       "    </tr>\n",
       "    <tr>\n",
       "      <th>9</th>\n",
       "      <td>2017-21</td>\n",
       "      <td>Fordham Heights</td>\n",
       "      <td>11171</td>\n",
       "      <td>2347</td>\n",
       "    </tr>\n",
       "    <tr>\n",
       "      <th>10</th>\n",
       "      <td>2017-21</td>\n",
       "      <td>Melrose</td>\n",
       "      <td>17284</td>\n",
       "      <td>2291</td>\n",
       "    </tr>\n",
       "    <tr>\n",
       "      <th>11</th>\n",
       "      <td>2017-21</td>\n",
       "      <td>Morrisania</td>\n",
       "      <td>12615</td>\n",
       "      <td>2287</td>\n",
       "    </tr>\n",
       "    <tr>\n",
       "      <th>12</th>\n",
       "      <td>2017-21</td>\n",
       "      <td>Norwood</td>\n",
       "      <td>11923</td>\n",
       "      <td>2195</td>\n",
       "    </tr>\n",
       "    <tr>\n",
       "      <th>13</th>\n",
       "      <td>2017-21</td>\n",
       "      <td>Kingsbridge Heights-Van Cortlandt Village</td>\n",
       "      <td>8852</td>\n",
       "      <td>1869</td>\n",
       "    </tr>\n",
       "    <tr>\n",
       "      <th>14</th>\n",
       "      <td>2017-21</td>\n",
       "      <td>Highbridge</td>\n",
       "      <td>11128</td>\n",
       "      <td>1836</td>\n",
       "    </tr>\n",
       "    <tr>\n",
       "      <th>15</th>\n",
       "      <td>2017-21</td>\n",
       "      <td>Tremont</td>\n",
       "      <td>11476</td>\n",
       "      <td>1724</td>\n",
       "    </tr>\n",
       "    <tr>\n",
       "      <th>16</th>\n",
       "      <td>2017-21</td>\n",
       "      <td>West Farms</td>\n",
       "      <td>8295</td>\n",
       "      <td>1541</td>\n",
       "    </tr>\n",
       "    <tr>\n",
       "      <th>17</th>\n",
       "      <td>2017-21</td>\n",
       "      <td>Claremont Village-Claremont (East)</td>\n",
       "      <td>10386</td>\n",
       "      <td>1390</td>\n",
       "    </tr>\n",
       "    <tr>\n",
       "      <th>18</th>\n",
       "      <td>2017-21</td>\n",
       "      <td>Crotona Park East</td>\n",
       "      <td>8519</td>\n",
       "      <td>1286</td>\n",
       "    </tr>\n",
       "    <tr>\n",
       "      <th>19</th>\n",
       "      <td>2017-21</td>\n",
       "      <td>Kingsbridge-Marble Hill</td>\n",
       "      <td>6977</td>\n",
       "      <td>1148</td>\n",
       "    </tr>\n",
       "    <tr>\n",
       "      <th>20</th>\n",
       "      <td>2017-21</td>\n",
       "      <td>Hunts Point</td>\n",
       "      <td>4696</td>\n",
       "      <td>1026</td>\n",
       "    </tr>\n",
       "  </tbody>\n",
       "</table>\n",
       "</div>"
      ],
      "text/plain": [
       "       Time             Geography_neighberhood_poverty  \\\n",
       "1   2017-21                Mount Eden-Claremont (West)   \n",
       "2   2017-21                               Bedford Park   \n",
       "3   2017-21  University Heights (South)-Morris Heights   \n",
       "4   2017-21                Concourse-Concourse Village   \n",
       "5   2017-21         University Heights (North)-Fordham   \n",
       "6   2017-21                                 Mount Hope   \n",
       "7   2017-21                                   Longwood   \n",
       "8   2017-21                                    Belmont   \n",
       "9   2017-21                            Fordham Heights   \n",
       "10  2017-21                                    Melrose   \n",
       "11  2017-21                                 Morrisania   \n",
       "12  2017-21                                    Norwood   \n",
       "13  2017-21  Kingsbridge Heights-Van Cortlandt Village   \n",
       "14  2017-21                                 Highbridge   \n",
       "15  2017-21                                    Tremont   \n",
       "16  2017-21                                 West Farms   \n",
       "17  2017-21         Claremont Village-Claremont (East)   \n",
       "18  2017-21                          Crotona Park East   \n",
       "19  2017-21                    Kingsbridge-Marble Hill   \n",
       "20  2017-21                                Hunts Point   \n",
       "\n",
       "    Number_neighberhood_poverty  Number_unemployment  \n",
       "1                         16703                 3769  \n",
       "2                         14100                 3629  \n",
       "3                         18886                 3520  \n",
       "4                         21730                 3205  \n",
       "5                         11856                 3080  \n",
       "6                         14696                 2804  \n",
       "7                         12751                 2705  \n",
       "8                         12919                 2399  \n",
       "9                         11171                 2347  \n",
       "10                        17284                 2291  \n",
       "11                        12615                 2287  \n",
       "12                        11923                 2195  \n",
       "13                         8852                 1869  \n",
       "14                        11128                 1836  \n",
       "15                        11476                 1724  \n",
       "16                         8295                 1541  \n",
       "17                        10386                 1390  \n",
       "18                         8519                 1286  \n",
       "19                         6977                 1148  \n",
       "20                         4696                 1026  "
      ]
     },
     "execution_count": 394,
     "metadata": {},
     "output_type": "execute_result"
    }
   ],
   "source": [
    "\n",
    "combined_selection2 = combined_selection2.loc[1:20, ['Time','Geography_neighberhood_poverty','Number_neighberhood_poverty', 'Number_unemployment']].sort_values(by=(\"Number_unemployment\"), ascending=False)[0:20]\n",
    "combined_selection2 = combined_selection2.reset_index(drop=True)\n",
    "combined_selection2.index = combined_selection2.index + 1\n",
    "combined_selection2"
   ]
  },
  {
   "cell_type": "code",
   "execution_count": 400,
   "id": "2ce04dde",
   "metadata": {},
   "outputs": [
    {
     "data": {
      "application/vnd.plotly.v1+json": {
       "config": {
        "plotlyServerURL": "https://plot.ly"
       },
       "data": [
        {
         "hovertemplate": "Geography_neighberhood_poverty=Mount Eden-Claremont (West)<br>Number_neighberhood_poverty=%{x}<br>Number_unemployment=%{marker.size}<extra></extra>",
         "legendgroup": "Mount Eden-Claremont (West)",
         "marker": {
          "color": "#636efa",
          "size": [
           3769
          ],
          "sizemode": "area",
          "sizeref": 9.4225,
          "symbol": "circle"
         },
         "mode": "markers",
         "name": "Mount Eden-Claremont (West)",
         "orientation": "v",
         "showlegend": true,
         "type": "scatter",
         "x": [
          16703
         ],
         "xaxis": "x",
         "y": [
          3769
         ],
         "yaxis": "y"
        },
        {
         "hovertemplate": "Geography_neighberhood_poverty=Bedford Park<br>Number_neighberhood_poverty=%{x}<br>Number_unemployment=%{marker.size}<extra></extra>",
         "legendgroup": "Bedford Park",
         "marker": {
          "color": "#EF553B",
          "size": [
           3629
          ],
          "sizemode": "area",
          "sizeref": 9.4225,
          "symbol": "circle"
         },
         "mode": "markers",
         "name": "Bedford Park",
         "orientation": "v",
         "showlegend": true,
         "type": "scatter",
         "x": [
          14100
         ],
         "xaxis": "x",
         "y": [
          3629
         ],
         "yaxis": "y"
        },
        {
         "hovertemplate": "Geography_neighberhood_poverty=University Heights (South)-Morris Heights<br>Number_neighberhood_poverty=%{x}<br>Number_unemployment=%{marker.size}<extra></extra>",
         "legendgroup": "University Heights (South)-Morris Heights",
         "marker": {
          "color": "#00cc96",
          "size": [
           3520
          ],
          "sizemode": "area",
          "sizeref": 9.4225,
          "symbol": "circle"
         },
         "mode": "markers",
         "name": "University Heights (South)-Morris Heights",
         "orientation": "v",
         "showlegend": true,
         "type": "scatter",
         "x": [
          18886
         ],
         "xaxis": "x",
         "y": [
          3520
         ],
         "yaxis": "y"
        },
        {
         "hovertemplate": "Geography_neighberhood_poverty=Concourse-Concourse Village<br>Number_neighberhood_poverty=%{x}<br>Number_unemployment=%{marker.size}<extra></extra>",
         "legendgroup": "Concourse-Concourse Village",
         "marker": {
          "color": "#ab63fa",
          "size": [
           3205
          ],
          "sizemode": "area",
          "sizeref": 9.4225,
          "symbol": "circle"
         },
         "mode": "markers",
         "name": "Concourse-Concourse Village",
         "orientation": "v",
         "showlegend": true,
         "type": "scatter",
         "x": [
          21730
         ],
         "xaxis": "x",
         "y": [
          3205
         ],
         "yaxis": "y"
        },
        {
         "hovertemplate": "Geography_neighberhood_poverty=University Heights (North)-Fordham<br>Number_neighberhood_poverty=%{x}<br>Number_unemployment=%{marker.size}<extra></extra>",
         "legendgroup": "University Heights (North)-Fordham",
         "marker": {
          "color": "#FFA15A",
          "size": [
           3080
          ],
          "sizemode": "area",
          "sizeref": 9.4225,
          "symbol": "circle"
         },
         "mode": "markers",
         "name": "University Heights (North)-Fordham",
         "orientation": "v",
         "showlegend": true,
         "type": "scatter",
         "x": [
          11856
         ],
         "xaxis": "x",
         "y": [
          3080
         ],
         "yaxis": "y"
        },
        {
         "hovertemplate": "Geography_neighberhood_poverty=Mount Hope<br>Number_neighberhood_poverty=%{x}<br>Number_unemployment=%{marker.size}<extra></extra>",
         "legendgroup": "Mount Hope",
         "marker": {
          "color": "#19d3f3",
          "size": [
           2804
          ],
          "sizemode": "area",
          "sizeref": 9.4225,
          "symbol": "circle"
         },
         "mode": "markers",
         "name": "Mount Hope",
         "orientation": "v",
         "showlegend": true,
         "type": "scatter",
         "x": [
          14696
         ],
         "xaxis": "x",
         "y": [
          2804
         ],
         "yaxis": "y"
        },
        {
         "hovertemplate": "Geography_neighberhood_poverty=Longwood<br>Number_neighberhood_poverty=%{x}<br>Number_unemployment=%{marker.size}<extra></extra>",
         "legendgroup": "Longwood",
         "marker": {
          "color": "#FF6692",
          "size": [
           2705
          ],
          "sizemode": "area",
          "sizeref": 9.4225,
          "symbol": "circle"
         },
         "mode": "markers",
         "name": "Longwood",
         "orientation": "v",
         "showlegend": true,
         "type": "scatter",
         "x": [
          12751
         ],
         "xaxis": "x",
         "y": [
          2705
         ],
         "yaxis": "y"
        },
        {
         "hovertemplate": "Geography_neighberhood_poverty=Belmont<br>Number_neighberhood_poverty=%{x}<br>Number_unemployment=%{marker.size}<extra></extra>",
         "legendgroup": "Belmont",
         "marker": {
          "color": "#B6E880",
          "size": [
           2399
          ],
          "sizemode": "area",
          "sizeref": 9.4225,
          "symbol": "circle"
         },
         "mode": "markers",
         "name": "Belmont",
         "orientation": "v",
         "showlegend": true,
         "type": "scatter",
         "x": [
          12919
         ],
         "xaxis": "x",
         "y": [
          2399
         ],
         "yaxis": "y"
        },
        {
         "hovertemplate": "Geography_neighberhood_poverty=Fordham Heights<br>Number_neighberhood_poverty=%{x}<br>Number_unemployment=%{marker.size}<extra></extra>",
         "legendgroup": "Fordham Heights",
         "marker": {
          "color": "#FF97FF",
          "size": [
           2347
          ],
          "sizemode": "area",
          "sizeref": 9.4225,
          "symbol": "circle"
         },
         "mode": "markers",
         "name": "Fordham Heights",
         "orientation": "v",
         "showlegend": true,
         "type": "scatter",
         "x": [
          11171
         ],
         "xaxis": "x",
         "y": [
          2347
         ],
         "yaxis": "y"
        },
        {
         "hovertemplate": "Geography_neighberhood_poverty=Melrose<br>Number_neighberhood_poverty=%{x}<br>Number_unemployment=%{marker.size}<extra></extra>",
         "legendgroup": "Melrose",
         "marker": {
          "color": "#FECB52",
          "size": [
           2291
          ],
          "sizemode": "area",
          "sizeref": 9.4225,
          "symbol": "circle"
         },
         "mode": "markers",
         "name": "Melrose",
         "orientation": "v",
         "showlegend": true,
         "type": "scatter",
         "x": [
          17284
         ],
         "xaxis": "x",
         "y": [
          2291
         ],
         "yaxis": "y"
        },
        {
         "hovertemplate": "Geography_neighberhood_poverty=Morrisania<br>Number_neighberhood_poverty=%{x}<br>Number_unemployment=%{marker.size}<extra></extra>",
         "legendgroup": "Morrisania",
         "marker": {
          "color": "#636efa",
          "size": [
           2287
          ],
          "sizemode": "area",
          "sizeref": 9.4225,
          "symbol": "circle"
         },
         "mode": "markers",
         "name": "Morrisania",
         "orientation": "v",
         "showlegend": true,
         "type": "scatter",
         "x": [
          12615
         ],
         "xaxis": "x",
         "y": [
          2287
         ],
         "yaxis": "y"
        },
        {
         "hovertemplate": "Geography_neighberhood_poverty=Norwood<br>Number_neighberhood_poverty=%{x}<br>Number_unemployment=%{marker.size}<extra></extra>",
         "legendgroup": "Norwood",
         "marker": {
          "color": "#EF553B",
          "size": [
           2195
          ],
          "sizemode": "area",
          "sizeref": 9.4225,
          "symbol": "circle"
         },
         "mode": "markers",
         "name": "Norwood",
         "orientation": "v",
         "showlegend": true,
         "type": "scatter",
         "x": [
          11923
         ],
         "xaxis": "x",
         "y": [
          2195
         ],
         "yaxis": "y"
        },
        {
         "hovertemplate": "Geography_neighberhood_poverty=Kingsbridge Heights-Van Cortlandt Village<br>Number_neighberhood_poverty=%{x}<br>Number_unemployment=%{marker.size}<extra></extra>",
         "legendgroup": "Kingsbridge Heights-Van Cortlandt Village",
         "marker": {
          "color": "#00cc96",
          "size": [
           1869
          ],
          "sizemode": "area",
          "sizeref": 9.4225,
          "symbol": "circle"
         },
         "mode": "markers",
         "name": "Kingsbridge Heights-Van Cortlandt Village",
         "orientation": "v",
         "showlegend": true,
         "type": "scatter",
         "x": [
          8852
         ],
         "xaxis": "x",
         "y": [
          1869
         ],
         "yaxis": "y"
        },
        {
         "hovertemplate": "Geography_neighberhood_poverty=Highbridge<br>Number_neighberhood_poverty=%{x}<br>Number_unemployment=%{marker.size}<extra></extra>",
         "legendgroup": "Highbridge",
         "marker": {
          "color": "#ab63fa",
          "size": [
           1836
          ],
          "sizemode": "area",
          "sizeref": 9.4225,
          "symbol": "circle"
         },
         "mode": "markers",
         "name": "Highbridge",
         "orientation": "v",
         "showlegend": true,
         "type": "scatter",
         "x": [
          11128
         ],
         "xaxis": "x",
         "y": [
          1836
         ],
         "yaxis": "y"
        },
        {
         "hovertemplate": "Geography_neighberhood_poverty=Tremont<br>Number_neighberhood_poverty=%{x}<br>Number_unemployment=%{marker.size}<extra></extra>",
         "legendgroup": "Tremont",
         "marker": {
          "color": "#FFA15A",
          "size": [
           1724
          ],
          "sizemode": "area",
          "sizeref": 9.4225,
          "symbol": "circle"
         },
         "mode": "markers",
         "name": "Tremont",
         "orientation": "v",
         "showlegend": true,
         "type": "scatter",
         "x": [
          11476
         ],
         "xaxis": "x",
         "y": [
          1724
         ],
         "yaxis": "y"
        },
        {
         "hovertemplate": "Geography_neighberhood_poverty=West Farms<br>Number_neighberhood_poverty=%{x}<br>Number_unemployment=%{marker.size}<extra></extra>",
         "legendgroup": "West Farms",
         "marker": {
          "color": "#19d3f3",
          "size": [
           1541
          ],
          "sizemode": "area",
          "sizeref": 9.4225,
          "symbol": "circle"
         },
         "mode": "markers",
         "name": "West Farms",
         "orientation": "v",
         "showlegend": true,
         "type": "scatter",
         "x": [
          8295
         ],
         "xaxis": "x",
         "y": [
          1541
         ],
         "yaxis": "y"
        },
        {
         "hovertemplate": "Geography_neighberhood_poverty=Claremont Village-Claremont (East)<br>Number_neighberhood_poverty=%{x}<br>Number_unemployment=%{marker.size}<extra></extra>",
         "legendgroup": "Claremont Village-Claremont (East)",
         "marker": {
          "color": "#FF6692",
          "size": [
           1390
          ],
          "sizemode": "area",
          "sizeref": 9.4225,
          "symbol": "circle"
         },
         "mode": "markers",
         "name": "Claremont Village-Claremont (East)",
         "orientation": "v",
         "showlegend": true,
         "type": "scatter",
         "x": [
          10386
         ],
         "xaxis": "x",
         "y": [
          1390
         ],
         "yaxis": "y"
        },
        {
         "hovertemplate": "Geography_neighberhood_poverty=Crotona Park East<br>Number_neighberhood_poverty=%{x}<br>Number_unemployment=%{marker.size}<extra></extra>",
         "legendgroup": "Crotona Park East",
         "marker": {
          "color": "#B6E880",
          "size": [
           1286
          ],
          "sizemode": "area",
          "sizeref": 9.4225,
          "symbol": "circle"
         },
         "mode": "markers",
         "name": "Crotona Park East",
         "orientation": "v",
         "showlegend": true,
         "type": "scatter",
         "x": [
          8519
         ],
         "xaxis": "x",
         "y": [
          1286
         ],
         "yaxis": "y"
        },
        {
         "hovertemplate": "Geography_neighberhood_poverty=Kingsbridge-Marble Hill<br>Number_neighberhood_poverty=%{x}<br>Number_unemployment=%{marker.size}<extra></extra>",
         "legendgroup": "Kingsbridge-Marble Hill",
         "marker": {
          "color": "#FF97FF",
          "size": [
           1148
          ],
          "sizemode": "area",
          "sizeref": 9.4225,
          "symbol": "circle"
         },
         "mode": "markers",
         "name": "Kingsbridge-Marble Hill",
         "orientation": "v",
         "showlegend": true,
         "type": "scatter",
         "x": [
          6977
         ],
         "xaxis": "x",
         "y": [
          1148
         ],
         "yaxis": "y"
        },
        {
         "hovertemplate": "Geography_neighberhood_poverty=Hunts Point<br>Number_neighberhood_poverty=%{x}<br>Number_unemployment=%{marker.size}<extra></extra>",
         "legendgroup": "Hunts Point",
         "marker": {
          "color": "#FECB52",
          "size": [
           1026
          ],
          "sizemode": "area",
          "sizeref": 9.4225,
          "symbol": "circle"
         },
         "mode": "markers",
         "name": "Hunts Point",
         "orientation": "v",
         "showlegend": true,
         "type": "scatter",
         "x": [
          4696
         ],
         "xaxis": "x",
         "y": [
          1026
         ],
         "yaxis": "y"
        }
       ],
       "layout": {
        "legend": {
         "itemsizing": "constant",
         "title": {
          "text": "Neighberhoods"
         },
         "tracegroupgap": 0
        },
        "margin": {
         "t": 60
        },
        "template": {
         "data": {
          "bar": [
           {
            "error_x": {
             "color": "#2a3f5f"
            },
            "error_y": {
             "color": "#2a3f5f"
            },
            "marker": {
             "line": {
              "color": "#E5ECF6",
              "width": 0.5
             },
             "pattern": {
              "fillmode": "overlay",
              "size": 10,
              "solidity": 0.2
             }
            },
            "type": "bar"
           }
          ],
          "barpolar": [
           {
            "marker": {
             "line": {
              "color": "#E5ECF6",
              "width": 0.5
             },
             "pattern": {
              "fillmode": "overlay",
              "size": 10,
              "solidity": 0.2
             }
            },
            "type": "barpolar"
           }
          ],
          "carpet": [
           {
            "aaxis": {
             "endlinecolor": "#2a3f5f",
             "gridcolor": "white",
             "linecolor": "white",
             "minorgridcolor": "white",
             "startlinecolor": "#2a3f5f"
            },
            "baxis": {
             "endlinecolor": "#2a3f5f",
             "gridcolor": "white",
             "linecolor": "white",
             "minorgridcolor": "white",
             "startlinecolor": "#2a3f5f"
            },
            "type": "carpet"
           }
          ],
          "choropleth": [
           {
            "colorbar": {
             "outlinewidth": 0,
             "ticks": ""
            },
            "type": "choropleth"
           }
          ],
          "contour": [
           {
            "colorbar": {
             "outlinewidth": 0,
             "ticks": ""
            },
            "colorscale": [
             [
              0,
              "#0d0887"
             ],
             [
              0.1111111111111111,
              "#46039f"
             ],
             [
              0.2222222222222222,
              "#7201a8"
             ],
             [
              0.3333333333333333,
              "#9c179e"
             ],
             [
              0.4444444444444444,
              "#bd3786"
             ],
             [
              0.5555555555555556,
              "#d8576b"
             ],
             [
              0.6666666666666666,
              "#ed7953"
             ],
             [
              0.7777777777777778,
              "#fb9f3a"
             ],
             [
              0.8888888888888888,
              "#fdca26"
             ],
             [
              1,
              "#f0f921"
             ]
            ],
            "type": "contour"
           }
          ],
          "contourcarpet": [
           {
            "colorbar": {
             "outlinewidth": 0,
             "ticks": ""
            },
            "type": "contourcarpet"
           }
          ],
          "heatmap": [
           {
            "colorbar": {
             "outlinewidth": 0,
             "ticks": ""
            },
            "colorscale": [
             [
              0,
              "#0d0887"
             ],
             [
              0.1111111111111111,
              "#46039f"
             ],
             [
              0.2222222222222222,
              "#7201a8"
             ],
             [
              0.3333333333333333,
              "#9c179e"
             ],
             [
              0.4444444444444444,
              "#bd3786"
             ],
             [
              0.5555555555555556,
              "#d8576b"
             ],
             [
              0.6666666666666666,
              "#ed7953"
             ],
             [
              0.7777777777777778,
              "#fb9f3a"
             ],
             [
              0.8888888888888888,
              "#fdca26"
             ],
             [
              1,
              "#f0f921"
             ]
            ],
            "type": "heatmap"
           }
          ],
          "heatmapgl": [
           {
            "colorbar": {
             "outlinewidth": 0,
             "ticks": ""
            },
            "colorscale": [
             [
              0,
              "#0d0887"
             ],
             [
              0.1111111111111111,
              "#46039f"
             ],
             [
              0.2222222222222222,
              "#7201a8"
             ],
             [
              0.3333333333333333,
              "#9c179e"
             ],
             [
              0.4444444444444444,
              "#bd3786"
             ],
             [
              0.5555555555555556,
              "#d8576b"
             ],
             [
              0.6666666666666666,
              "#ed7953"
             ],
             [
              0.7777777777777778,
              "#fb9f3a"
             ],
             [
              0.8888888888888888,
              "#fdca26"
             ],
             [
              1,
              "#f0f921"
             ]
            ],
            "type": "heatmapgl"
           }
          ],
          "histogram": [
           {
            "marker": {
             "pattern": {
              "fillmode": "overlay",
              "size": 10,
              "solidity": 0.2
             }
            },
            "type": "histogram"
           }
          ],
          "histogram2d": [
           {
            "colorbar": {
             "outlinewidth": 0,
             "ticks": ""
            },
            "colorscale": [
             [
              0,
              "#0d0887"
             ],
             [
              0.1111111111111111,
              "#46039f"
             ],
             [
              0.2222222222222222,
              "#7201a8"
             ],
             [
              0.3333333333333333,
              "#9c179e"
             ],
             [
              0.4444444444444444,
              "#bd3786"
             ],
             [
              0.5555555555555556,
              "#d8576b"
             ],
             [
              0.6666666666666666,
              "#ed7953"
             ],
             [
              0.7777777777777778,
              "#fb9f3a"
             ],
             [
              0.8888888888888888,
              "#fdca26"
             ],
             [
              1,
              "#f0f921"
             ]
            ],
            "type": "histogram2d"
           }
          ],
          "histogram2dcontour": [
           {
            "colorbar": {
             "outlinewidth": 0,
             "ticks": ""
            },
            "colorscale": [
             [
              0,
              "#0d0887"
             ],
             [
              0.1111111111111111,
              "#46039f"
             ],
             [
              0.2222222222222222,
              "#7201a8"
             ],
             [
              0.3333333333333333,
              "#9c179e"
             ],
             [
              0.4444444444444444,
              "#bd3786"
             ],
             [
              0.5555555555555556,
              "#d8576b"
             ],
             [
              0.6666666666666666,
              "#ed7953"
             ],
             [
              0.7777777777777778,
              "#fb9f3a"
             ],
             [
              0.8888888888888888,
              "#fdca26"
             ],
             [
              1,
              "#f0f921"
             ]
            ],
            "type": "histogram2dcontour"
           }
          ],
          "mesh3d": [
           {
            "colorbar": {
             "outlinewidth": 0,
             "ticks": ""
            },
            "type": "mesh3d"
           }
          ],
          "parcoords": [
           {
            "line": {
             "colorbar": {
              "outlinewidth": 0,
              "ticks": ""
             }
            },
            "type": "parcoords"
           }
          ],
          "pie": [
           {
            "automargin": true,
            "type": "pie"
           }
          ],
          "scatter": [
           {
            "fillpattern": {
             "fillmode": "overlay",
             "size": 10,
             "solidity": 0.2
            },
            "type": "scatter"
           }
          ],
          "scatter3d": [
           {
            "line": {
             "colorbar": {
              "outlinewidth": 0,
              "ticks": ""
             }
            },
            "marker": {
             "colorbar": {
              "outlinewidth": 0,
              "ticks": ""
             }
            },
            "type": "scatter3d"
           }
          ],
          "scattercarpet": [
           {
            "marker": {
             "colorbar": {
              "outlinewidth": 0,
              "ticks": ""
             }
            },
            "type": "scattercarpet"
           }
          ],
          "scattergeo": [
           {
            "marker": {
             "colorbar": {
              "outlinewidth": 0,
              "ticks": ""
             }
            },
            "type": "scattergeo"
           }
          ],
          "scattergl": [
           {
            "marker": {
             "colorbar": {
              "outlinewidth": 0,
              "ticks": ""
             }
            },
            "type": "scattergl"
           }
          ],
          "scattermapbox": [
           {
            "marker": {
             "colorbar": {
              "outlinewidth": 0,
              "ticks": ""
             }
            },
            "type": "scattermapbox"
           }
          ],
          "scatterpolar": [
           {
            "marker": {
             "colorbar": {
              "outlinewidth": 0,
              "ticks": ""
             }
            },
            "type": "scatterpolar"
           }
          ],
          "scatterpolargl": [
           {
            "marker": {
             "colorbar": {
              "outlinewidth": 0,
              "ticks": ""
             }
            },
            "type": "scatterpolargl"
           }
          ],
          "scatterternary": [
           {
            "marker": {
             "colorbar": {
              "outlinewidth": 0,
              "ticks": ""
             }
            },
            "type": "scatterternary"
           }
          ],
          "surface": [
           {
            "colorbar": {
             "outlinewidth": 0,
             "ticks": ""
            },
            "colorscale": [
             [
              0,
              "#0d0887"
             ],
             [
              0.1111111111111111,
              "#46039f"
             ],
             [
              0.2222222222222222,
              "#7201a8"
             ],
             [
              0.3333333333333333,
              "#9c179e"
             ],
             [
              0.4444444444444444,
              "#bd3786"
             ],
             [
              0.5555555555555556,
              "#d8576b"
             ],
             [
              0.6666666666666666,
              "#ed7953"
             ],
             [
              0.7777777777777778,
              "#fb9f3a"
             ],
             [
              0.8888888888888888,
              "#fdca26"
             ],
             [
              1,
              "#f0f921"
             ]
            ],
            "type": "surface"
           }
          ],
          "table": [
           {
            "cells": {
             "fill": {
              "color": "#EBF0F8"
             },
             "line": {
              "color": "white"
             }
            },
            "header": {
             "fill": {
              "color": "#C8D4E3"
             },
             "line": {
              "color": "white"
             }
            },
            "type": "table"
           }
          ]
         },
         "layout": {
          "annotationdefaults": {
           "arrowcolor": "#2a3f5f",
           "arrowhead": 0,
           "arrowwidth": 1
          },
          "autotypenumbers": "strict",
          "coloraxis": {
           "colorbar": {
            "outlinewidth": 0,
            "ticks": ""
           }
          },
          "colorscale": {
           "diverging": [
            [
             0,
             "#8e0152"
            ],
            [
             0.1,
             "#c51b7d"
            ],
            [
             0.2,
             "#de77ae"
            ],
            [
             0.3,
             "#f1b6da"
            ],
            [
             0.4,
             "#fde0ef"
            ],
            [
             0.5,
             "#f7f7f7"
            ],
            [
             0.6,
             "#e6f5d0"
            ],
            [
             0.7,
             "#b8e186"
            ],
            [
             0.8,
             "#7fbc41"
            ],
            [
             0.9,
             "#4d9221"
            ],
            [
             1,
             "#276419"
            ]
           ],
           "sequential": [
            [
             0,
             "#0d0887"
            ],
            [
             0.1111111111111111,
             "#46039f"
            ],
            [
             0.2222222222222222,
             "#7201a8"
            ],
            [
             0.3333333333333333,
             "#9c179e"
            ],
            [
             0.4444444444444444,
             "#bd3786"
            ],
            [
             0.5555555555555556,
             "#d8576b"
            ],
            [
             0.6666666666666666,
             "#ed7953"
            ],
            [
             0.7777777777777778,
             "#fb9f3a"
            ],
            [
             0.8888888888888888,
             "#fdca26"
            ],
            [
             1,
             "#f0f921"
            ]
           ],
           "sequentialminus": [
            [
             0,
             "#0d0887"
            ],
            [
             0.1111111111111111,
             "#46039f"
            ],
            [
             0.2222222222222222,
             "#7201a8"
            ],
            [
             0.3333333333333333,
             "#9c179e"
            ],
            [
             0.4444444444444444,
             "#bd3786"
            ],
            [
             0.5555555555555556,
             "#d8576b"
            ],
            [
             0.6666666666666666,
             "#ed7953"
            ],
            [
             0.7777777777777778,
             "#fb9f3a"
            ],
            [
             0.8888888888888888,
             "#fdca26"
            ],
            [
             1,
             "#f0f921"
            ]
           ]
          },
          "colorway": [
           "#636efa",
           "#EF553B",
           "#00cc96",
           "#ab63fa",
           "#FFA15A",
           "#19d3f3",
           "#FF6692",
           "#B6E880",
           "#FF97FF",
           "#FECB52"
          ],
          "font": {
           "color": "#2a3f5f"
          },
          "geo": {
           "bgcolor": "white",
           "lakecolor": "white",
           "landcolor": "#E5ECF6",
           "showlakes": true,
           "showland": true,
           "subunitcolor": "white"
          },
          "hoverlabel": {
           "align": "left"
          },
          "hovermode": "closest",
          "mapbox": {
           "style": "light"
          },
          "paper_bgcolor": "white",
          "plot_bgcolor": "#E5ECF6",
          "polar": {
           "angularaxis": {
            "gridcolor": "white",
            "linecolor": "white",
            "ticks": ""
           },
           "bgcolor": "#E5ECF6",
           "radialaxis": {
            "gridcolor": "white",
            "linecolor": "white",
            "ticks": ""
           }
          },
          "scene": {
           "xaxis": {
            "backgroundcolor": "#E5ECF6",
            "gridcolor": "white",
            "gridwidth": 2,
            "linecolor": "white",
            "showbackground": true,
            "ticks": "",
            "zerolinecolor": "white"
           },
           "yaxis": {
            "backgroundcolor": "#E5ECF6",
            "gridcolor": "white",
            "gridwidth": 2,
            "linecolor": "white",
            "showbackground": true,
            "ticks": "",
            "zerolinecolor": "white"
           },
           "zaxis": {
            "backgroundcolor": "#E5ECF6",
            "gridcolor": "white",
            "gridwidth": 2,
            "linecolor": "white",
            "showbackground": true,
            "ticks": "",
            "zerolinecolor": "white"
           }
          },
          "shapedefaults": {
           "line": {
            "color": "#2a3f5f"
           }
          },
          "ternary": {
           "aaxis": {
            "gridcolor": "white",
            "linecolor": "white",
            "ticks": ""
           },
           "baxis": {
            "gridcolor": "white",
            "linecolor": "white",
            "ticks": ""
           },
           "bgcolor": "#E5ECF6",
           "caxis": {
            "gridcolor": "white",
            "linecolor": "white",
            "ticks": ""
           }
          },
          "title": {
           "x": 0.05
          },
          "xaxis": {
           "automargin": true,
           "gridcolor": "white",
           "linecolor": "white",
           "ticks": "",
           "title": {
            "standoff": 15
           },
           "zerolinecolor": "white",
           "zerolinewidth": 2
          },
          "yaxis": {
           "automargin": true,
           "gridcolor": "white",
           "linecolor": "white",
           "ticks": "",
           "title": {
            "standoff": 15
           },
           "zerolinecolor": "white",
           "zerolinewidth": 2
          }
         }
        },
        "xaxis": {
         "anchor": "y",
         "domain": [
          0,
          1
         ],
         "title": {
          "text": "Number Of People In Poverty"
         }
        },
        "yaxis": {
         "anchor": "x",
         "domain": [
          0,
          1
         ],
         "title": {
          "text": "Number Of Unemployed People"
         }
        }
       }
      },
      "text/html": [
       "<div>                            <div id=\"35ceab46-d1b7-4dfa-9699-9a18768b3c5b\" class=\"plotly-graph-div\" style=\"height:525px; width:100%;\"></div>            <script type=\"text/javascript\">                require([\"plotly\"], function(Plotly) {                    window.PLOTLYENV=window.PLOTLYENV || {};                                    if (document.getElementById(\"35ceab46-d1b7-4dfa-9699-9a18768b3c5b\")) {                    Plotly.newPlot(                        \"35ceab46-d1b7-4dfa-9699-9a18768b3c5b\",                        [{\"hovertemplate\":\"Geography_neighberhood_poverty=Mount Eden-Claremont (West)<br>Number_neighberhood_poverty=%{x}<br>Number_unemployment=%{marker.size}<extra></extra>\",\"legendgroup\":\"Mount Eden-Claremont (West)\",\"marker\":{\"color\":\"#636efa\",\"size\":[3769],\"sizemode\":\"area\",\"sizeref\":9.4225,\"symbol\":\"circle\"},\"mode\":\"markers\",\"name\":\"Mount Eden-Claremont (West)\",\"orientation\":\"v\",\"showlegend\":true,\"x\":[16703],\"xaxis\":\"x\",\"y\":[3769],\"yaxis\":\"y\",\"type\":\"scatter\"},{\"hovertemplate\":\"Geography_neighberhood_poverty=Bedford Park<br>Number_neighberhood_poverty=%{x}<br>Number_unemployment=%{marker.size}<extra></extra>\",\"legendgroup\":\"Bedford Park\",\"marker\":{\"color\":\"#EF553B\",\"size\":[3629],\"sizemode\":\"area\",\"sizeref\":9.4225,\"symbol\":\"circle\"},\"mode\":\"markers\",\"name\":\"Bedford Park\",\"orientation\":\"v\",\"showlegend\":true,\"x\":[14100],\"xaxis\":\"x\",\"y\":[3629],\"yaxis\":\"y\",\"type\":\"scatter\"},{\"hovertemplate\":\"Geography_neighberhood_poverty=University Heights (South)-Morris Heights<br>Number_neighberhood_poverty=%{x}<br>Number_unemployment=%{marker.size}<extra></extra>\",\"legendgroup\":\"University Heights (South)-Morris Heights\",\"marker\":{\"color\":\"#00cc96\",\"size\":[3520],\"sizemode\":\"area\",\"sizeref\":9.4225,\"symbol\":\"circle\"},\"mode\":\"markers\",\"name\":\"University Heights (South)-Morris Heights\",\"orientation\":\"v\",\"showlegend\":true,\"x\":[18886],\"xaxis\":\"x\",\"y\":[3520],\"yaxis\":\"y\",\"type\":\"scatter\"},{\"hovertemplate\":\"Geography_neighberhood_poverty=Concourse-Concourse Village<br>Number_neighberhood_poverty=%{x}<br>Number_unemployment=%{marker.size}<extra></extra>\",\"legendgroup\":\"Concourse-Concourse Village\",\"marker\":{\"color\":\"#ab63fa\",\"size\":[3205],\"sizemode\":\"area\",\"sizeref\":9.4225,\"symbol\":\"circle\"},\"mode\":\"markers\",\"name\":\"Concourse-Concourse Village\",\"orientation\":\"v\",\"showlegend\":true,\"x\":[21730],\"xaxis\":\"x\",\"y\":[3205],\"yaxis\":\"y\",\"type\":\"scatter\"},{\"hovertemplate\":\"Geography_neighberhood_poverty=University Heights (North)-Fordham<br>Number_neighberhood_poverty=%{x}<br>Number_unemployment=%{marker.size}<extra></extra>\",\"legendgroup\":\"University Heights (North)-Fordham\",\"marker\":{\"color\":\"#FFA15A\",\"size\":[3080],\"sizemode\":\"area\",\"sizeref\":9.4225,\"symbol\":\"circle\"},\"mode\":\"markers\",\"name\":\"University Heights (North)-Fordham\",\"orientation\":\"v\",\"showlegend\":true,\"x\":[11856],\"xaxis\":\"x\",\"y\":[3080],\"yaxis\":\"y\",\"type\":\"scatter\"},{\"hovertemplate\":\"Geography_neighberhood_poverty=Mount Hope<br>Number_neighberhood_poverty=%{x}<br>Number_unemployment=%{marker.size}<extra></extra>\",\"legendgroup\":\"Mount Hope\",\"marker\":{\"color\":\"#19d3f3\",\"size\":[2804],\"sizemode\":\"area\",\"sizeref\":9.4225,\"symbol\":\"circle\"},\"mode\":\"markers\",\"name\":\"Mount Hope\",\"orientation\":\"v\",\"showlegend\":true,\"x\":[14696],\"xaxis\":\"x\",\"y\":[2804],\"yaxis\":\"y\",\"type\":\"scatter\"},{\"hovertemplate\":\"Geography_neighberhood_poverty=Longwood<br>Number_neighberhood_poverty=%{x}<br>Number_unemployment=%{marker.size}<extra></extra>\",\"legendgroup\":\"Longwood\",\"marker\":{\"color\":\"#FF6692\",\"size\":[2705],\"sizemode\":\"area\",\"sizeref\":9.4225,\"symbol\":\"circle\"},\"mode\":\"markers\",\"name\":\"Longwood\",\"orientation\":\"v\",\"showlegend\":true,\"x\":[12751],\"xaxis\":\"x\",\"y\":[2705],\"yaxis\":\"y\",\"type\":\"scatter\"},{\"hovertemplate\":\"Geography_neighberhood_poverty=Belmont<br>Number_neighberhood_poverty=%{x}<br>Number_unemployment=%{marker.size}<extra></extra>\",\"legendgroup\":\"Belmont\",\"marker\":{\"color\":\"#B6E880\",\"size\":[2399],\"sizemode\":\"area\",\"sizeref\":9.4225,\"symbol\":\"circle\"},\"mode\":\"markers\",\"name\":\"Belmont\",\"orientation\":\"v\",\"showlegend\":true,\"x\":[12919],\"xaxis\":\"x\",\"y\":[2399],\"yaxis\":\"y\",\"type\":\"scatter\"},{\"hovertemplate\":\"Geography_neighberhood_poverty=Fordham Heights<br>Number_neighberhood_poverty=%{x}<br>Number_unemployment=%{marker.size}<extra></extra>\",\"legendgroup\":\"Fordham Heights\",\"marker\":{\"color\":\"#FF97FF\",\"size\":[2347],\"sizemode\":\"area\",\"sizeref\":9.4225,\"symbol\":\"circle\"},\"mode\":\"markers\",\"name\":\"Fordham Heights\",\"orientation\":\"v\",\"showlegend\":true,\"x\":[11171],\"xaxis\":\"x\",\"y\":[2347],\"yaxis\":\"y\",\"type\":\"scatter\"},{\"hovertemplate\":\"Geography_neighberhood_poverty=Melrose<br>Number_neighberhood_poverty=%{x}<br>Number_unemployment=%{marker.size}<extra></extra>\",\"legendgroup\":\"Melrose\",\"marker\":{\"color\":\"#FECB52\",\"size\":[2291],\"sizemode\":\"area\",\"sizeref\":9.4225,\"symbol\":\"circle\"},\"mode\":\"markers\",\"name\":\"Melrose\",\"orientation\":\"v\",\"showlegend\":true,\"x\":[17284],\"xaxis\":\"x\",\"y\":[2291],\"yaxis\":\"y\",\"type\":\"scatter\"},{\"hovertemplate\":\"Geography_neighberhood_poverty=Morrisania<br>Number_neighberhood_poverty=%{x}<br>Number_unemployment=%{marker.size}<extra></extra>\",\"legendgroup\":\"Morrisania\",\"marker\":{\"color\":\"#636efa\",\"size\":[2287],\"sizemode\":\"area\",\"sizeref\":9.4225,\"symbol\":\"circle\"},\"mode\":\"markers\",\"name\":\"Morrisania\",\"orientation\":\"v\",\"showlegend\":true,\"x\":[12615],\"xaxis\":\"x\",\"y\":[2287],\"yaxis\":\"y\",\"type\":\"scatter\"},{\"hovertemplate\":\"Geography_neighberhood_poverty=Norwood<br>Number_neighberhood_poverty=%{x}<br>Number_unemployment=%{marker.size}<extra></extra>\",\"legendgroup\":\"Norwood\",\"marker\":{\"color\":\"#EF553B\",\"size\":[2195],\"sizemode\":\"area\",\"sizeref\":9.4225,\"symbol\":\"circle\"},\"mode\":\"markers\",\"name\":\"Norwood\",\"orientation\":\"v\",\"showlegend\":true,\"x\":[11923],\"xaxis\":\"x\",\"y\":[2195],\"yaxis\":\"y\",\"type\":\"scatter\"},{\"hovertemplate\":\"Geography_neighberhood_poverty=Kingsbridge Heights-Van Cortlandt Village<br>Number_neighberhood_poverty=%{x}<br>Number_unemployment=%{marker.size}<extra></extra>\",\"legendgroup\":\"Kingsbridge Heights-Van Cortlandt Village\",\"marker\":{\"color\":\"#00cc96\",\"size\":[1869],\"sizemode\":\"area\",\"sizeref\":9.4225,\"symbol\":\"circle\"},\"mode\":\"markers\",\"name\":\"Kingsbridge Heights-Van Cortlandt Village\",\"orientation\":\"v\",\"showlegend\":true,\"x\":[8852],\"xaxis\":\"x\",\"y\":[1869],\"yaxis\":\"y\",\"type\":\"scatter\"},{\"hovertemplate\":\"Geography_neighberhood_poverty=Highbridge<br>Number_neighberhood_poverty=%{x}<br>Number_unemployment=%{marker.size}<extra></extra>\",\"legendgroup\":\"Highbridge\",\"marker\":{\"color\":\"#ab63fa\",\"size\":[1836],\"sizemode\":\"area\",\"sizeref\":9.4225,\"symbol\":\"circle\"},\"mode\":\"markers\",\"name\":\"Highbridge\",\"orientation\":\"v\",\"showlegend\":true,\"x\":[11128],\"xaxis\":\"x\",\"y\":[1836],\"yaxis\":\"y\",\"type\":\"scatter\"},{\"hovertemplate\":\"Geography_neighberhood_poverty=Tremont<br>Number_neighberhood_poverty=%{x}<br>Number_unemployment=%{marker.size}<extra></extra>\",\"legendgroup\":\"Tremont\",\"marker\":{\"color\":\"#FFA15A\",\"size\":[1724],\"sizemode\":\"area\",\"sizeref\":9.4225,\"symbol\":\"circle\"},\"mode\":\"markers\",\"name\":\"Tremont\",\"orientation\":\"v\",\"showlegend\":true,\"x\":[11476],\"xaxis\":\"x\",\"y\":[1724],\"yaxis\":\"y\",\"type\":\"scatter\"},{\"hovertemplate\":\"Geography_neighberhood_poverty=West Farms<br>Number_neighberhood_poverty=%{x}<br>Number_unemployment=%{marker.size}<extra></extra>\",\"legendgroup\":\"West Farms\",\"marker\":{\"color\":\"#19d3f3\",\"size\":[1541],\"sizemode\":\"area\",\"sizeref\":9.4225,\"symbol\":\"circle\"},\"mode\":\"markers\",\"name\":\"West Farms\",\"orientation\":\"v\",\"showlegend\":true,\"x\":[8295],\"xaxis\":\"x\",\"y\":[1541],\"yaxis\":\"y\",\"type\":\"scatter\"},{\"hovertemplate\":\"Geography_neighberhood_poverty=Claremont Village-Claremont (East)<br>Number_neighberhood_poverty=%{x}<br>Number_unemployment=%{marker.size}<extra></extra>\",\"legendgroup\":\"Claremont Village-Claremont (East)\",\"marker\":{\"color\":\"#FF6692\",\"size\":[1390],\"sizemode\":\"area\",\"sizeref\":9.4225,\"symbol\":\"circle\"},\"mode\":\"markers\",\"name\":\"Claremont Village-Claremont (East)\",\"orientation\":\"v\",\"showlegend\":true,\"x\":[10386],\"xaxis\":\"x\",\"y\":[1390],\"yaxis\":\"y\",\"type\":\"scatter\"},{\"hovertemplate\":\"Geography_neighberhood_poverty=Crotona Park East<br>Number_neighberhood_poverty=%{x}<br>Number_unemployment=%{marker.size}<extra></extra>\",\"legendgroup\":\"Crotona Park East\",\"marker\":{\"color\":\"#B6E880\",\"size\":[1286],\"sizemode\":\"area\",\"sizeref\":9.4225,\"symbol\":\"circle\"},\"mode\":\"markers\",\"name\":\"Crotona Park East\",\"orientation\":\"v\",\"showlegend\":true,\"x\":[8519],\"xaxis\":\"x\",\"y\":[1286],\"yaxis\":\"y\",\"type\":\"scatter\"},{\"hovertemplate\":\"Geography_neighberhood_poverty=Kingsbridge-Marble Hill<br>Number_neighberhood_poverty=%{x}<br>Number_unemployment=%{marker.size}<extra></extra>\",\"legendgroup\":\"Kingsbridge-Marble Hill\",\"marker\":{\"color\":\"#FF97FF\",\"size\":[1148],\"sizemode\":\"area\",\"sizeref\":9.4225,\"symbol\":\"circle\"},\"mode\":\"markers\",\"name\":\"Kingsbridge-Marble Hill\",\"orientation\":\"v\",\"showlegend\":true,\"x\":[6977],\"xaxis\":\"x\",\"y\":[1148],\"yaxis\":\"y\",\"type\":\"scatter\"},{\"hovertemplate\":\"Geography_neighberhood_poverty=Hunts Point<br>Number_neighberhood_poverty=%{x}<br>Number_unemployment=%{marker.size}<extra></extra>\",\"legendgroup\":\"Hunts Point\",\"marker\":{\"color\":\"#FECB52\",\"size\":[1026],\"sizemode\":\"area\",\"sizeref\":9.4225,\"symbol\":\"circle\"},\"mode\":\"markers\",\"name\":\"Hunts Point\",\"orientation\":\"v\",\"showlegend\":true,\"x\":[4696],\"xaxis\":\"x\",\"y\":[1026],\"yaxis\":\"y\",\"type\":\"scatter\"}],                        {\"template\":{\"data\":{\"histogram2dcontour\":[{\"type\":\"histogram2dcontour\",\"colorbar\":{\"outlinewidth\":0,\"ticks\":\"\"},\"colorscale\":[[0.0,\"#0d0887\"],[0.1111111111111111,\"#46039f\"],[0.2222222222222222,\"#7201a8\"],[0.3333333333333333,\"#9c179e\"],[0.4444444444444444,\"#bd3786\"],[0.5555555555555556,\"#d8576b\"],[0.6666666666666666,\"#ed7953\"],[0.7777777777777778,\"#fb9f3a\"],[0.8888888888888888,\"#fdca26\"],[1.0,\"#f0f921\"]]}],\"choropleth\":[{\"type\":\"choropleth\",\"colorbar\":{\"outlinewidth\":0,\"ticks\":\"\"}}],\"histogram2d\":[{\"type\":\"histogram2d\",\"colorbar\":{\"outlinewidth\":0,\"ticks\":\"\"},\"colorscale\":[[0.0,\"#0d0887\"],[0.1111111111111111,\"#46039f\"],[0.2222222222222222,\"#7201a8\"],[0.3333333333333333,\"#9c179e\"],[0.4444444444444444,\"#bd3786\"],[0.5555555555555556,\"#d8576b\"],[0.6666666666666666,\"#ed7953\"],[0.7777777777777778,\"#fb9f3a\"],[0.8888888888888888,\"#fdca26\"],[1.0,\"#f0f921\"]]}],\"heatmap\":[{\"type\":\"heatmap\",\"colorbar\":{\"outlinewidth\":0,\"ticks\":\"\"},\"colorscale\":[[0.0,\"#0d0887\"],[0.1111111111111111,\"#46039f\"],[0.2222222222222222,\"#7201a8\"],[0.3333333333333333,\"#9c179e\"],[0.4444444444444444,\"#bd3786\"],[0.5555555555555556,\"#d8576b\"],[0.6666666666666666,\"#ed7953\"],[0.7777777777777778,\"#fb9f3a\"],[0.8888888888888888,\"#fdca26\"],[1.0,\"#f0f921\"]]}],\"heatmapgl\":[{\"type\":\"heatmapgl\",\"colorbar\":{\"outlinewidth\":0,\"ticks\":\"\"},\"colorscale\":[[0.0,\"#0d0887\"],[0.1111111111111111,\"#46039f\"],[0.2222222222222222,\"#7201a8\"],[0.3333333333333333,\"#9c179e\"],[0.4444444444444444,\"#bd3786\"],[0.5555555555555556,\"#d8576b\"],[0.6666666666666666,\"#ed7953\"],[0.7777777777777778,\"#fb9f3a\"],[0.8888888888888888,\"#fdca26\"],[1.0,\"#f0f921\"]]}],\"contourcarpet\":[{\"type\":\"contourcarpet\",\"colorbar\":{\"outlinewidth\":0,\"ticks\":\"\"}}],\"contour\":[{\"type\":\"contour\",\"colorbar\":{\"outlinewidth\":0,\"ticks\":\"\"},\"colorscale\":[[0.0,\"#0d0887\"],[0.1111111111111111,\"#46039f\"],[0.2222222222222222,\"#7201a8\"],[0.3333333333333333,\"#9c179e\"],[0.4444444444444444,\"#bd3786\"],[0.5555555555555556,\"#d8576b\"],[0.6666666666666666,\"#ed7953\"],[0.7777777777777778,\"#fb9f3a\"],[0.8888888888888888,\"#fdca26\"],[1.0,\"#f0f921\"]]}],\"surface\":[{\"type\":\"surface\",\"colorbar\":{\"outlinewidth\":0,\"ticks\":\"\"},\"colorscale\":[[0.0,\"#0d0887\"],[0.1111111111111111,\"#46039f\"],[0.2222222222222222,\"#7201a8\"],[0.3333333333333333,\"#9c179e\"],[0.4444444444444444,\"#bd3786\"],[0.5555555555555556,\"#d8576b\"],[0.6666666666666666,\"#ed7953\"],[0.7777777777777778,\"#fb9f3a\"],[0.8888888888888888,\"#fdca26\"],[1.0,\"#f0f921\"]]}],\"mesh3d\":[{\"type\":\"mesh3d\",\"colorbar\":{\"outlinewidth\":0,\"ticks\":\"\"}}],\"scatter\":[{\"fillpattern\":{\"fillmode\":\"overlay\",\"size\":10,\"solidity\":0.2},\"type\":\"scatter\"}],\"parcoords\":[{\"type\":\"parcoords\",\"line\":{\"colorbar\":{\"outlinewidth\":0,\"ticks\":\"\"}}}],\"scatterpolargl\":[{\"type\":\"scatterpolargl\",\"marker\":{\"colorbar\":{\"outlinewidth\":0,\"ticks\":\"\"}}}],\"bar\":[{\"error_x\":{\"color\":\"#2a3f5f\"},\"error_y\":{\"color\":\"#2a3f5f\"},\"marker\":{\"line\":{\"color\":\"#E5ECF6\",\"width\":0.5},\"pattern\":{\"fillmode\":\"overlay\",\"size\":10,\"solidity\":0.2}},\"type\":\"bar\"}],\"scattergeo\":[{\"type\":\"scattergeo\",\"marker\":{\"colorbar\":{\"outlinewidth\":0,\"ticks\":\"\"}}}],\"scatterpolar\":[{\"type\":\"scatterpolar\",\"marker\":{\"colorbar\":{\"outlinewidth\":0,\"ticks\":\"\"}}}],\"histogram\":[{\"marker\":{\"pattern\":{\"fillmode\":\"overlay\",\"size\":10,\"solidity\":0.2}},\"type\":\"histogram\"}],\"scattergl\":[{\"type\":\"scattergl\",\"marker\":{\"colorbar\":{\"outlinewidth\":0,\"ticks\":\"\"}}}],\"scatter3d\":[{\"type\":\"scatter3d\",\"line\":{\"colorbar\":{\"outlinewidth\":0,\"ticks\":\"\"}},\"marker\":{\"colorbar\":{\"outlinewidth\":0,\"ticks\":\"\"}}}],\"scattermapbox\":[{\"type\":\"scattermapbox\",\"marker\":{\"colorbar\":{\"outlinewidth\":0,\"ticks\":\"\"}}}],\"scatterternary\":[{\"type\":\"scatterternary\",\"marker\":{\"colorbar\":{\"outlinewidth\":0,\"ticks\":\"\"}}}],\"scattercarpet\":[{\"type\":\"scattercarpet\",\"marker\":{\"colorbar\":{\"outlinewidth\":0,\"ticks\":\"\"}}}],\"carpet\":[{\"aaxis\":{\"endlinecolor\":\"#2a3f5f\",\"gridcolor\":\"white\",\"linecolor\":\"white\",\"minorgridcolor\":\"white\",\"startlinecolor\":\"#2a3f5f\"},\"baxis\":{\"endlinecolor\":\"#2a3f5f\",\"gridcolor\":\"white\",\"linecolor\":\"white\",\"minorgridcolor\":\"white\",\"startlinecolor\":\"#2a3f5f\"},\"type\":\"carpet\"}],\"table\":[{\"cells\":{\"fill\":{\"color\":\"#EBF0F8\"},\"line\":{\"color\":\"white\"}},\"header\":{\"fill\":{\"color\":\"#C8D4E3\"},\"line\":{\"color\":\"white\"}},\"type\":\"table\"}],\"barpolar\":[{\"marker\":{\"line\":{\"color\":\"#E5ECF6\",\"width\":0.5},\"pattern\":{\"fillmode\":\"overlay\",\"size\":10,\"solidity\":0.2}},\"type\":\"barpolar\"}],\"pie\":[{\"automargin\":true,\"type\":\"pie\"}]},\"layout\":{\"autotypenumbers\":\"strict\",\"colorway\":[\"#636efa\",\"#EF553B\",\"#00cc96\",\"#ab63fa\",\"#FFA15A\",\"#19d3f3\",\"#FF6692\",\"#B6E880\",\"#FF97FF\",\"#FECB52\"],\"font\":{\"color\":\"#2a3f5f\"},\"hovermode\":\"closest\",\"hoverlabel\":{\"align\":\"left\"},\"paper_bgcolor\":\"white\",\"plot_bgcolor\":\"#E5ECF6\",\"polar\":{\"bgcolor\":\"#E5ECF6\",\"angularaxis\":{\"gridcolor\":\"white\",\"linecolor\":\"white\",\"ticks\":\"\"},\"radialaxis\":{\"gridcolor\":\"white\",\"linecolor\":\"white\",\"ticks\":\"\"}},\"ternary\":{\"bgcolor\":\"#E5ECF6\",\"aaxis\":{\"gridcolor\":\"white\",\"linecolor\":\"white\",\"ticks\":\"\"},\"baxis\":{\"gridcolor\":\"white\",\"linecolor\":\"white\",\"ticks\":\"\"},\"caxis\":{\"gridcolor\":\"white\",\"linecolor\":\"white\",\"ticks\":\"\"}},\"coloraxis\":{\"colorbar\":{\"outlinewidth\":0,\"ticks\":\"\"}},\"colorscale\":{\"sequential\":[[0.0,\"#0d0887\"],[0.1111111111111111,\"#46039f\"],[0.2222222222222222,\"#7201a8\"],[0.3333333333333333,\"#9c179e\"],[0.4444444444444444,\"#bd3786\"],[0.5555555555555556,\"#d8576b\"],[0.6666666666666666,\"#ed7953\"],[0.7777777777777778,\"#fb9f3a\"],[0.8888888888888888,\"#fdca26\"],[1.0,\"#f0f921\"]],\"sequentialminus\":[[0.0,\"#0d0887\"],[0.1111111111111111,\"#46039f\"],[0.2222222222222222,\"#7201a8\"],[0.3333333333333333,\"#9c179e\"],[0.4444444444444444,\"#bd3786\"],[0.5555555555555556,\"#d8576b\"],[0.6666666666666666,\"#ed7953\"],[0.7777777777777778,\"#fb9f3a\"],[0.8888888888888888,\"#fdca26\"],[1.0,\"#f0f921\"]],\"diverging\":[[0,\"#8e0152\"],[0.1,\"#c51b7d\"],[0.2,\"#de77ae\"],[0.3,\"#f1b6da\"],[0.4,\"#fde0ef\"],[0.5,\"#f7f7f7\"],[0.6,\"#e6f5d0\"],[0.7,\"#b8e186\"],[0.8,\"#7fbc41\"],[0.9,\"#4d9221\"],[1,\"#276419\"]]},\"xaxis\":{\"gridcolor\":\"white\",\"linecolor\":\"white\",\"ticks\":\"\",\"title\":{\"standoff\":15},\"zerolinecolor\":\"white\",\"automargin\":true,\"zerolinewidth\":2},\"yaxis\":{\"gridcolor\":\"white\",\"linecolor\":\"white\",\"ticks\":\"\",\"title\":{\"standoff\":15},\"zerolinecolor\":\"white\",\"automargin\":true,\"zerolinewidth\":2},\"scene\":{\"xaxis\":{\"backgroundcolor\":\"#E5ECF6\",\"gridcolor\":\"white\",\"linecolor\":\"white\",\"showbackground\":true,\"ticks\":\"\",\"zerolinecolor\":\"white\",\"gridwidth\":2},\"yaxis\":{\"backgroundcolor\":\"#E5ECF6\",\"gridcolor\":\"white\",\"linecolor\":\"white\",\"showbackground\":true,\"ticks\":\"\",\"zerolinecolor\":\"white\",\"gridwidth\":2},\"zaxis\":{\"backgroundcolor\":\"#E5ECF6\",\"gridcolor\":\"white\",\"linecolor\":\"white\",\"showbackground\":true,\"ticks\":\"\",\"zerolinecolor\":\"white\",\"gridwidth\":2}},\"shapedefaults\":{\"line\":{\"color\":\"#2a3f5f\"}},\"annotationdefaults\":{\"arrowcolor\":\"#2a3f5f\",\"arrowhead\":0,\"arrowwidth\":1},\"geo\":{\"bgcolor\":\"white\",\"landcolor\":\"#E5ECF6\",\"subunitcolor\":\"white\",\"showland\":true,\"showlakes\":true,\"lakecolor\":\"white\"},\"title\":{\"x\":0.05},\"mapbox\":{\"style\":\"light\"}}},\"xaxis\":{\"anchor\":\"y\",\"domain\":[0.0,1.0],\"title\":{\"text\":\"Number Of People In Poverty\"}},\"yaxis\":{\"anchor\":\"x\",\"domain\":[0.0,1.0],\"title\":{\"text\":\"Number Of Unemployed People\"}},\"legend\":{\"title\":{\"text\":\"Neighberhoods\"},\"tracegroupgap\":0,\"itemsizing\":\"constant\"},\"margin\":{\"t\":60}},                        {\"responsive\": true}                    ).then(function(){\n",
       "                            \n",
       "var gd = document.getElementById('35ceab46-d1b7-4dfa-9699-9a18768b3c5b');\n",
       "var x = new MutationObserver(function (mutations, observer) {{\n",
       "        var display = window.getComputedStyle(gd).display;\n",
       "        if (!display || display === 'none') {{\n",
       "            console.log([gd, 'removed!']);\n",
       "            Plotly.purge(gd);\n",
       "            observer.disconnect();\n",
       "        }}\n",
       "}});\n",
       "\n",
       "// Listen for the removal of the full notebook cells\n",
       "var notebookContainer = gd.closest('#notebook-container');\n",
       "if (notebookContainer) {{\n",
       "    x.observe(notebookContainer, {childList: true});\n",
       "}}\n",
       "\n",
       "// Listen for the clearing of the current output cell\n",
       "var outputEl = gd.closest('.output');\n",
       "if (outputEl) {{\n",
       "    x.observe(outputEl, {childList: true});\n",
       "}}\n",
       "\n",
       "                        })                };                });            </script>        </div>"
      ]
     },
     "metadata": {},
     "output_type": "display_data"
    }
   ],
   "source": [
    "df = px.data.iris()\n",
    "fig = px.scatter(combined_selection2, x=\"Number_neighberhood_poverty\", y=\"Number_unemployment\", color=\"Geography_neighberhood_poverty\",\n",
    "                 size='Number_unemployment', hover_data=['Number_neighberhood_poverty'])\n",
    "fig.update_layout(\n",
    "    xaxis_title=\"Number Of People In Poverty\",\n",
    "    yaxis_title=\"Number Of Unemployed People\",\n",
    "    legend_title=\"Neighberhoods\"\n",
    ")\n",
    "fig.show()"
   ]
  },
  {
   "cell_type": "code",
   "execution_count": 381,
   "id": "bd72a975",
   "metadata": {},
   "outputs": [
    {
     "data": {
      "text/html": [
       "<div>\n",
       "<style scoped>\n",
       "    .dataframe tbody tr th:only-of-type {\n",
       "        vertical-align: middle;\n",
       "    }\n",
       "\n",
       "    .dataframe tbody tr th {\n",
       "        vertical-align: top;\n",
       "    }\n",
       "\n",
       "    .dataframe thead th {\n",
       "        text-align: right;\n",
       "    }\n",
       "</style>\n",
       "<table border=\"1\" class=\"dataframe\">\n",
       "  <thead>\n",
       "    <tr style=\"text-align: right;\">\n",
       "      <th></th>\n",
       "      <th>Geography</th>\n",
       "      <th>Number</th>\n",
       "    </tr>\n",
       "  </thead>\n",
       "  <tbody>\n",
       "    <tr>\n",
       "      <th>1</th>\n",
       "      <td>Mount Eden-Claremont (West)</td>\n",
       "      <td>3769</td>\n",
       "    </tr>\n",
       "    <tr>\n",
       "      <th>2</th>\n",
       "      <td>University Heights (South)-Morris Heights</td>\n",
       "      <td>3520</td>\n",
       "    </tr>\n",
       "    <tr>\n",
       "      <th>3</th>\n",
       "      <td>Concourse-Concourse Village</td>\n",
       "      <td>3205</td>\n",
       "    </tr>\n",
       "    <tr>\n",
       "      <th>4</th>\n",
       "      <td>Longwood</td>\n",
       "      <td>2705</td>\n",
       "    </tr>\n",
       "    <tr>\n",
       "      <th>5</th>\n",
       "      <td>Melrose</td>\n",
       "      <td>2291</td>\n",
       "    </tr>\n",
       "    <tr>\n",
       "      <th>6</th>\n",
       "      <td>Morrisania</td>\n",
       "      <td>2287</td>\n",
       "    </tr>\n",
       "    <tr>\n",
       "      <th>7</th>\n",
       "      <td>Highbridge</td>\n",
       "      <td>1836</td>\n",
       "    </tr>\n",
       "    <tr>\n",
       "      <th>8</th>\n",
       "      <td>Claremont Village-Claremont (East)</td>\n",
       "      <td>1390</td>\n",
       "    </tr>\n",
       "    <tr>\n",
       "      <th>9</th>\n",
       "      <td>Crotona Park East</td>\n",
       "      <td>1286</td>\n",
       "    </tr>\n",
       "    <tr>\n",
       "      <th>10</th>\n",
       "      <td>Hunts Point</td>\n",
       "      <td>1026</td>\n",
       "    </tr>\n",
       "  </tbody>\n",
       "</table>\n",
       "</div>"
      ],
      "text/plain": [
       "                                    Geography  Number\n",
       "1                 Mount Eden-Claremont (West)    3769\n",
       "2   University Heights (South)-Morris Heights    3520\n",
       "3                 Concourse-Concourse Village    3205\n",
       "4                                    Longwood    2705\n",
       "5                                     Melrose    2291\n",
       "6                                  Morrisania    2287\n",
       "7                                  Highbridge    1836\n",
       "8          Claremont Village-Claremont (East)    1390\n",
       "9                           Crotona Park East    1286\n",
       "10                                Hunts Point    1026"
      ]
     },
     "execution_count": 381,
     "metadata": {},
     "output_type": "execute_result"
    }
   ],
   "source": [
    "num_unemployment = unemployment.loc[1:10, ['Geography','Number']].sort_values(by=(\"Number\"), ascending=False)[0:10]\n",
    "num_unemployment = num_unemployment.reset_index(drop=True)\n",
    "num_unemployment.index = num_unemployment.index + 1\n",
    "num_unemployment"
   ]
  },
  {
   "cell_type": "code",
   "execution_count": 382,
   "id": "acd63db3",
   "metadata": {},
   "outputs": [
    {
     "data": {
      "image/png": "[encoded data removed]",
      "text/plain": [
       "<Figure size 640x480 with 1 Axes>"
      ]
     },
     "metadata": {},
     "output_type": "display_data"
    }
   ],
   "source": [
    "g= sns.barplot(data=num_unemployment, x=\"Geography\", y=\"Number\")\n",
    "\n",
    "# Get the x-axis tick labels\n",
    "xtick_labels = [label.get_text() for label in g.get_xticklabels()]\n",
    "\n",
    "# Define new x-axis labels\n",
    "new_xtick_labels = ['Mount Eden', 'Morris Heights', 'Concourse Village', 'Longwood', 'Melrose','Morrisania',\n",
    "                    'Highbridge', 'Claremont Village', 'Crotona Park East', 'Hunts Point']\n",
    "\n",
    "# Set the new x-axis tick labels\n",
    "g.set_xticklabels(new_xtick_labels)\n",
    "\n",
    "plt.xticks(rotation=75)\n",
    "\n",
    "plt.title(\"Number of Unemployed Per Neighberhood\")\n",
    "plt.xlabel('NYC Neighberhoods')\n",
    "plt.ylabel('Number of Unemployment')\n",
    "\n",
    "plt.tight_layout()"
   ]
  },
  {
   "cell_type": "code",
   "execution_count": 383,
   "id": "13c75078",
   "metadata": {},
   "outputs": [
    {
     "data": {
      "text/html": [
       "<div>\n",
       "<style scoped>\n",
       "    .dataframe tbody tr th:only-of-type {\n",
       "        vertical-align: middle;\n",
       "    }\n",
       "\n",
       "    .dataframe tbody tr th {\n",
       "        vertical-align: top;\n",
       "    }\n",
       "\n",
       "    .dataframe thead th {\n",
       "        text-align: right;\n",
       "    }\n",
       "</style>\n",
       "<table border=\"1\" class=\"dataframe\">\n",
       "  <thead>\n",
       "    <tr style=\"text-align: right;\">\n",
       "      <th></th>\n",
       "      <th>Time</th>\n",
       "      <th>GeoType</th>\n",
       "      <th>GeoID</th>\n",
       "      <th>GeoRank</th>\n",
       "      <th>Geography</th>\n",
       "      <th>Number</th>\n",
       "      <th>Percent</th>\n",
       "    </tr>\n",
       "  </thead>\n",
       "  <tbody>\n",
       "    <tr>\n",
       "      <th>0</th>\n",
       "      <td>2017-21</td>\n",
       "      <td>NTA2020</td>\n",
       "      <td>50101</td>\n",
       "      <td>9</td>\n",
       "      <td>Mott Haven-Port Morris</td>\n",
       "      <td>23752</td>\n",
       "      <td>43.7</td>\n",
       "    </tr>\n",
       "    <tr>\n",
       "      <th>1</th>\n",
       "      <td>2017-21</td>\n",
       "      <td>NTA2020</td>\n",
       "      <td>50102</td>\n",
       "      <td>9</td>\n",
       "      <td>Melrose</td>\n",
       "      <td>17284</td>\n",
       "      <td>40.7</td>\n",
       "    </tr>\n",
       "    <tr>\n",
       "      <th>2</th>\n",
       "      <td>2017-21</td>\n",
       "      <td>NTA2020</td>\n",
       "      <td>50201</td>\n",
       "      <td>9</td>\n",
       "      <td>Hunts Point</td>\n",
       "      <td>4696</td>\n",
       "      <td>34.3</td>\n",
       "    </tr>\n",
       "    <tr>\n",
       "      <th>3</th>\n",
       "      <td>2017-21</td>\n",
       "      <td>NTA2020</td>\n",
       "      <td>50202</td>\n",
       "      <td>9</td>\n",
       "      <td>Longwood</td>\n",
       "      <td>12751</td>\n",
       "      <td>32.0</td>\n",
       "    </tr>\n",
       "    <tr>\n",
       "      <th>4</th>\n",
       "      <td>2017-21</td>\n",
       "      <td>NTA2020</td>\n",
       "      <td>50301</td>\n",
       "      <td>9</td>\n",
       "      <td>Morrisania</td>\n",
       "      <td>12615</td>\n",
       "      <td>35.7</td>\n",
       "    </tr>\n",
       "  </tbody>\n",
       "</table>\n",
       "</div>"
      ],
      "text/plain": [
       "      Time  GeoType  GeoID  GeoRank               Geography  Number  Percent\n",
       "0  2017-21  NTA2020  50101        9  Mott Haven-Port Morris   23752     43.7\n",
       "1  2017-21  NTA2020  50102        9                 Melrose   17284     40.7\n",
       "2  2017-21  NTA2020  50201        9             Hunts Point    4696     34.3\n",
       "3  2017-21  NTA2020  50202        9                Longwood   12751     32.0\n",
       "4  2017-21  NTA2020  50301        9              Morrisania   12615     35.7"
      ]
     },
     "execution_count": 383,
     "metadata": {},
     "output_type": "execute_result"
    }
   ],
   "source": [
    "neighberhood_poverty.head()"
   ]
  },
  {
   "cell_type": "code",
   "execution_count": 384,
   "id": "cbb68269",
   "metadata": {},
   "outputs": [
    {
     "data": {
      "text/html": [
       "<div>\n",
       "<style scoped>\n",
       "    .dataframe tbody tr th:only-of-type {\n",
       "        vertical-align: middle;\n",
       "    }\n",
       "\n",
       "    .dataframe tbody tr th {\n",
       "        vertical-align: top;\n",
       "    }\n",
       "\n",
       "    .dataframe thead th {\n",
       "        text-align: right;\n",
       "    }\n",
       "</style>\n",
       "<table border=\"1\" class=\"dataframe\">\n",
       "  <thead>\n",
       "    <tr style=\"text-align: right;\">\n",
       "      <th></th>\n",
       "      <th>Geography</th>\n",
       "      <th>Number</th>\n",
       "      <th>Percent</th>\n",
       "    </tr>\n",
       "  </thead>\n",
       "  <tbody>\n",
       "    <tr>\n",
       "      <th>1</th>\n",
       "      <td>Claremont Village-Claremont (East)</td>\n",
       "      <td>10386</td>\n",
       "      <td>43.2</td>\n",
       "    </tr>\n",
       "    <tr>\n",
       "      <th>2</th>\n",
       "      <td>Melrose</td>\n",
       "      <td>17284</td>\n",
       "      <td>40.7</td>\n",
       "    </tr>\n",
       "    <tr>\n",
       "      <th>3</th>\n",
       "      <td>Morrisania</td>\n",
       "      <td>12615</td>\n",
       "      <td>35.7</td>\n",
       "    </tr>\n",
       "    <tr>\n",
       "      <th>4</th>\n",
       "      <td>Hunts Point</td>\n",
       "      <td>4696</td>\n",
       "      <td>34.3</td>\n",
       "    </tr>\n",
       "    <tr>\n",
       "      <th>5</th>\n",
       "      <td>Longwood</td>\n",
       "      <td>12751</td>\n",
       "      <td>32.0</td>\n",
       "    </tr>\n",
       "    <tr>\n",
       "      <th>6</th>\n",
       "      <td>Concourse-Concourse Village</td>\n",
       "      <td>21730</td>\n",
       "      <td>31.9</td>\n",
       "    </tr>\n",
       "    <tr>\n",
       "      <th>7</th>\n",
       "      <td>Crotona Park East</td>\n",
       "      <td>8519</td>\n",
       "      <td>29.4</td>\n",
       "    </tr>\n",
       "  </tbody>\n",
       "</table>\n",
       "</div>"
      ],
      "text/plain": [
       "                            Geography  Number  Percent\n",
       "1  Claremont Village-Claremont (East)   10386     43.2\n",
       "2                             Melrose   17284     40.7\n",
       "3                          Morrisania   12615     35.7\n",
       "4                         Hunts Point    4696     34.3\n",
       "5                            Longwood   12751     32.0\n",
       "6         Concourse-Concourse Village   21730     31.9\n",
       "7                   Crotona Park East    8519     29.4"
      ]
     },
     "execution_count": 384,
     "metadata": {},
     "output_type": "execute_result"
    }
   ],
   "source": [
    "sorted_poverty_percentage = neighberhood_poverty.loc[1:7, ['Geography','Number', 'Percent']].sort_values(by=(\"Percent\"), ascending=False)[0:10]\n",
    "sorted_poverty_percentage = sorted_poverty_percentage.reset_index(drop=True)\n",
    "sorted_poverty_percentage.index = sorted_poverty_percentage.index + 1\n",
    "sorted_poverty_percentage"
   ]
  },
  {
   "cell_type": "code",
   "execution_count": 385,
   "id": "5d815ac8",
   "metadata": {},
   "outputs": [
    {
     "data": {
      "text/html": [
       "<div>\n",
       "<style scoped>\n",
       "    .dataframe tbody tr th:only-of-type {\n",
       "        vertical-align: middle;\n",
       "    }\n",
       "\n",
       "    .dataframe tbody tr th {\n",
       "        vertical-align: top;\n",
       "    }\n",
       "\n",
       "    .dataframe thead th {\n",
       "        text-align: right;\n",
       "    }\n",
       "</style>\n",
       "<table border=\"1\" class=\"dataframe\">\n",
       "  <thead>\n",
       "    <tr style=\"text-align: right;\">\n",
       "      <th></th>\n",
       "      <th>Geography</th>\n",
       "      <th>Number</th>\n",
       "      <th>Percent</th>\n",
       "      <th>Y</th>\n",
       "      <th>X</th>\n",
       "    </tr>\n",
       "  </thead>\n",
       "  <tbody>\n",
       "    <tr>\n",
       "      <th>1</th>\n",
       "      <td>Claremont Village-Claremont (East)</td>\n",
       "      <td>10386</td>\n",
       "      <td>43.2</td>\n",
       "      <td>1</td>\n",
       "      <td>0</td>\n",
       "    </tr>\n",
       "    <tr>\n",
       "      <th>2</th>\n",
       "      <td>Melrose</td>\n",
       "      <td>17284</td>\n",
       "      <td>40.7</td>\n",
       "      <td>1</td>\n",
       "      <td>1</td>\n",
       "    </tr>\n",
       "    <tr>\n",
       "      <th>3</th>\n",
       "      <td>Morrisania</td>\n",
       "      <td>12615</td>\n",
       "      <td>35.7</td>\n",
       "      <td>1</td>\n",
       "      <td>2</td>\n",
       "    </tr>\n",
       "    <tr>\n",
       "      <th>4</th>\n",
       "      <td>Hunts Point</td>\n",
       "      <td>4696</td>\n",
       "      <td>34.3</td>\n",
       "      <td>1</td>\n",
       "      <td>3</td>\n",
       "    </tr>\n",
       "    <tr>\n",
       "      <th>5</th>\n",
       "      <td>Longwood</td>\n",
       "      <td>12751</td>\n",
       "      <td>32.0</td>\n",
       "      <td>1</td>\n",
       "      <td>4</td>\n",
       "    </tr>\n",
       "    <tr>\n",
       "      <th>6</th>\n",
       "      <td>Concourse-Concourse Village</td>\n",
       "      <td>21730</td>\n",
       "      <td>31.9</td>\n",
       "      <td>1</td>\n",
       "      <td>5</td>\n",
       "    </tr>\n",
       "    <tr>\n",
       "      <th>7</th>\n",
       "      <td>Crotona Park East</td>\n",
       "      <td>8519</td>\n",
       "      <td>29.4</td>\n",
       "      <td>1</td>\n",
       "      <td>6</td>\n",
       "    </tr>\n",
       "  </tbody>\n",
       "</table>\n",
       "</div>"
      ],
      "text/plain": [
       "                            Geography  Number  Percent  Y  X\n",
       "1  Claremont Village-Claremont (East)   10386     43.2  1  0\n",
       "2                             Melrose   17284     40.7  1  1\n",
       "3                          Morrisania   12615     35.7  1  2\n",
       "4                         Hunts Point    4696     34.3  1  3\n",
       "5                            Longwood   12751     32.0  1  4\n",
       "6         Concourse-Concourse Village   21730     31.9  1  5\n",
       "7                   Crotona Park East    8519     29.4  1  6"
      ]
     },
     "execution_count": 385,
     "metadata": {},
     "output_type": "execute_result"
    }
   ],
   "source": [
    "sorted_poverty_percentage['Y'] = [1]*len(sorted_poverty_percentage)\n",
    "list_x = list(range(0,len(sorted_poverty_percentage)))\n",
    "sorted_poverty_percentage['X'] = list_x\n",
    "sorted_poverty_percentage"
   ]
  },
  {
   "cell_type": "code",
   "execution_count": 386,
   "id": "a6d2e3d7",
   "metadata": {},
   "outputs": [
    {
     "data": {
      "application/vnd.plotly.v1+json": {
       "config": {
        "plotlyServerURL": "https://plot.ly"
       },
       "data": [
        {
         "hovertemplate": "Geography=Claremont Village-Claremont (East)<br>X=%{x}<br>Y=%{y}<br>Percent=%{marker.size}<br>text=%{text}<extra></extra>",
         "legendgroup": "Claremont Village-Claremont (East)",
         "marker": {
          "color": "#636efa",
          "size": [
           43.2
          ],
          "sizemode": "area",
          "sizeref": 0.005333333333333334,
          "symbol": "circle"
         },
         "mode": "markers+text",
         "name": "Claremont Village-Claremont (East)",
         "orientation": "v",
         "showlegend": true,
         "text": [
          "Claremont Village-Claremont (East)<br>10386<br>43.2%"
         ],
         "textposition": "top center",
         "type": "scatter",
         "x": [
          0
         ],
         "xaxis": "x",
         "y": [
          1
         ],
         "yaxis": "y"
        },
        {
         "hovertemplate": "Geography=Melrose<br>X=%{x}<br>Y=%{y}<br>Percent=%{marker.size}<br>text=%{text}<extra></extra>",
         "legendgroup": "Melrose",
         "marker": {
          "color": "#EF553B",
          "size": [
           40.7
          ],
          "sizemode": "area",
          "sizeref": 0.005333333333333334,
          "symbol": "circle"
         },
         "mode": "markers+text",
         "name": "Melrose",
         "orientation": "v",
         "showlegend": true,
         "text": [
          "Melrose<br>17284<br>40.7%"
         ],
         "textposition": "top center",
         "type": "scatter",
         "x": [
          1
         ],
         "xaxis": "x",
         "y": [
          1
         ],
         "yaxis": "y"
        },
        {
         "hovertemplate": "Geography=Morrisania<br>X=%{x}<br>Y=%{y}<br>Percent=%{marker.size}<br>text=%{text}<extra></extra>",
         "legendgroup": "Morrisania",
         "marker": {
          "color": "#00cc96",
          "size": [
           35.7
          ],
          "sizemode": "area",
          "sizeref": 0.005333333333333334,
          "symbol": "circle"
         },
         "mode": "markers+text",
         "name": "Morrisania",
         "orientation": "v",
         "showlegend": true,
         "text": [
          "Morrisania<br>12615<br>35.7%"
         ],
         "textposition": "top center",
         "type": "scatter",
         "x": [
          2
         ],
         "xaxis": "x",
         "y": [
          1
         ],
         "yaxis": "y"
        },
        {
         "hovertemplate": "Geography=Hunts Point<br>X=%{x}<br>Y=%{y}<br>Percent=%{marker.size}<br>text=%{text}<extra></extra>",
         "legendgroup": "Hunts Point",
         "marker": {
          "color": "#ab63fa",
          "size": [
           34.3
          ],
          "sizemode": "area",
          "sizeref": 0.005333333333333334,
          "symbol": "circle"
         },
         "mode": "markers+text",
         "name": "Hunts Point",
         "orientation": "v",
         "showlegend": true,
         "text": [
          "Hunts Point<br>4696<br>34.3%"
         ],
         "textposition": "top center",
         "type": "scatter",
         "x": [
          3
         ],
         "xaxis": "x",
         "y": [
          1
         ],
         "yaxis": "y"
        },
        {
         "hovertemplate": "Geography=Longwood<br>X=%{x}<br>Y=%{y}<br>Percent=%{marker.size}<br>text=%{text}<extra></extra>",
         "legendgroup": "Longwood",
         "marker": {
          "color": "#FFA15A",
          "size": [
           32
          ],
          "sizemode": "area",
          "sizeref": 0.005333333333333334,
          "symbol": "circle"
         },
         "mode": "markers+text",
         "name": "Longwood",
         "orientation": "v",
         "showlegend": true,
         "text": [
          "Longwood<br>12751<br>32.0%"
         ],
         "textposition": "top center",
         "type": "scatter",
         "x": [
          4
         ],
         "xaxis": "x",
         "y": [
          1
         ],
         "yaxis": "y"
        },
        {
         "hovertemplate": "Geography=Concourse-Concourse Village<br>X=%{x}<br>Y=%{y}<br>Percent=%{marker.size}<br>text=%{text}<extra></extra>",
         "legendgroup": "Concourse-Concourse Village",
         "marker": {
          "color": "#19d3f3",
          "size": [
           31.9
          ],
          "sizemode": "area",
          "sizeref": 0.005333333333333334,
          "symbol": "circle"
         },
         "mode": "markers+text",
         "name": "Concourse-Concourse Village",
         "orientation": "v",
         "showlegend": true,
         "text": [
          "Concourse-Concourse Village<br>21730<br>31.9%"
         ],
         "textposition": "top center",
         "type": "scatter",
         "x": [
          5
         ],
         "xaxis": "x",
         "y": [
          1
         ],
         "yaxis": "y"
        },
        {
         "hovertemplate": "Geography=Crotona Park East<br>X=%{x}<br>Y=%{y}<br>Percent=%{marker.size}<br>text=%{text}<extra></extra>",
         "legendgroup": "Crotona Park East",
         "marker": {
          "color": "#FF6692",
          "size": [
           29.4
          ],
          "sizemode": "area",
          "sizeref": 0.005333333333333334,
          "symbol": "circle"
         },
         "mode": "markers+text",
         "name": "Crotona Park East",
         "orientation": "v",
         "showlegend": true,
         "text": [
          "Crotona Park East<br>8519<br>29.4%"
         ],
         "textposition": "top center",
         "type": "scatter",
         "x": [
          6
         ],
         "xaxis": "x",
         "y": [
          1
         ],
         "yaxis": "y"
        }
       ],
       "layout": {
        "height": 320,
        "legend": {
         "itemsizing": "constant",
         "title": {
          "text": "Geography"
         },
         "tracegroupgap": 0
        },
        "margin": {
         "b": 0,
         "l": 0,
         "r": 0,
         "t": 50
        },
        "paper_bgcolor": "white",
        "plot_bgcolor": "white",
        "showlegend": false,
        "template": {
         "data": {
          "bar": [
           {
            "error_x": {
             "color": "#2a3f5f"
            },
            "error_y": {
             "color": "#2a3f5f"
            },
            "marker": {
             "line": {
              "color": "#E5ECF6",
              "width": 0.5
             },
             "pattern": {
              "fillmode": "overlay",
              "size": 10,
              "solidity": 0.2
             }
            },
            "type": "bar"
           }
          ],
          "barpolar": [
           {
            "marker": {
             "line": {
              "color": "#E5ECF6",
              "width": 0.5
             },
             "pattern": {
              "fillmode": "overlay",
              "size": 10,
              "solidity": 0.2
             }
            },
            "type": "barpolar"
           }
          ],
          "carpet": [
           {
            "aaxis": {
             "endlinecolor": "#2a3f5f",
             "gridcolor": "white",
             "linecolor": "white",
             "minorgridcolor": "white",
             "startlinecolor": "#2a3f5f"
            },
            "baxis": {
             "endlinecolor": "#2a3f5f",
             "gridcolor": "white",
             "linecolor": "white",
             "minorgridcolor": "white",
             "startlinecolor": "#2a3f5f"
            },
            "type": "carpet"
           }
          ],
          "choropleth": [
           {
            "colorbar": {
             "outlinewidth": 0,
             "ticks": ""
            },
            "type": "choropleth"
           }
          ],
          "contour": [
           {
            "colorbar": {
             "outlinewidth": 0,
             "ticks": ""
            },
            "colorscale": [
             [
              0,
              "#0d0887"
             ],
             [
              0.1111111111111111,
              "#46039f"
             ],
             [
              0.2222222222222222,
              "#7201a8"
             ],
             [
              0.3333333333333333,
              "#9c179e"
             ],
             [
              0.4444444444444444,
              "#bd3786"
             ],
             [
              0.5555555555555556,
              "#d8576b"
             ],
             [
              0.6666666666666666,
              "#ed7953"
             ],
             [
              0.7777777777777778,
              "#fb9f3a"
             ],
             [
              0.8888888888888888,
              "#fdca26"
             ],
             [
              1,
              "#f0f921"
             ]
            ],
            "type": "contour"
           }
          ],
          "contourcarpet": [
           {
            "colorbar": {
             "outlinewidth": 0,
             "ticks": ""
            },
            "type": "contourcarpet"
           }
          ],
          "heatmap": [
           {
            "colorbar": {
             "outlinewidth": 0,
             "ticks": ""
            },
            "colorscale": [
             [
              0,
              "#0d0887"
             ],
             [
              0.1111111111111111,
              "#46039f"
             ],
             [
              0.2222222222222222,
              "#7201a8"
             ],
             [
              0.3333333333333333,
              "#9c179e"
             ],
             [
              0.4444444444444444,
              "#bd3786"
             ],
             [
              0.5555555555555556,
              "#d8576b"
             ],
             [
              0.6666666666666666,
              "#ed7953"
             ],
             [
              0.7777777777777778,
              "#fb9f3a"
             ],
             [
              0.8888888888888888,
              "#fdca26"
             ],
             [
              1,
              "#f0f921"
             ]
            ],
            "type": "heatmap"
           }
          ],
          "heatmapgl": [
           {
            "colorbar": {
             "outlinewidth": 0,
             "ticks": ""
            },
            "colorscale": [
             [
              0,
              "#0d0887"
             ],
             [
              0.1111111111111111,
              "#46039f"
             ],
             [
              0.2222222222222222,
              "#7201a8"
             ],
             [
              0.3333333333333333,
              "#9c179e"
             ],
             [
              0.4444444444444444,
              "#bd3786"
             ],
             [
              0.5555555555555556,
              "#d8576b"
             ],
             [
              0.6666666666666666,
              "#ed7953"
             ],
             [
              0.7777777777777778,
              "#fb9f3a"
             ],
             [
              0.8888888888888888,
              "#fdca26"
             ],
             [
              1,
              "#f0f921"
             ]
            ],
            "type": "heatmapgl"
           }
          ],
          "histogram": [
           {
            "marker": {
             "pattern": {
              "fillmode": "overlay",
              "size": 10,
              "solidity": 0.2
             }
            },
            "type": "histogram"
           }
          ],
          "histogram2d": [
           {
            "colorbar": {
             "outlinewidth": 0,
             "ticks": ""
            },
            "colorscale": [
             [
              0,
              "#0d0887"
             ],
             [
              0.1111111111111111,
              "#46039f"
             ],
             [
              0.2222222222222222,
              "#7201a8"
             ],
             [
              0.3333333333333333,
              "#9c179e"
             ],
             [
              0.4444444444444444,
              "#bd3786"
             ],
             [
              0.5555555555555556,
              "#d8576b"
             ],
             [
              0.6666666666666666,
              "#ed7953"
             ],
             [
              0.7777777777777778,
              "#fb9f3a"
             ],
             [
              0.8888888888888888,
              "#fdca26"
             ],
             [
              1,
              "#f0f921"
             ]
            ],
            "type": "histogram2d"
           }
          ],
          "histogram2dcontour": [
           {
            "colorbar": {
             "outlinewidth": 0,
             "ticks": ""
            },
            "colorscale": [
             [
              0,
              "#0d0887"
             ],
             [
              0.1111111111111111,
              "#46039f"
             ],
             [
              0.2222222222222222,
              "#7201a8"
             ],
             [
              0.3333333333333333,
              "#9c179e"
             ],
             [
              0.4444444444444444,
              "#bd3786"
             ],
             [
              0.5555555555555556,
              "#d8576b"
             ],
             [
              0.6666666666666666,
              "#ed7953"
             ],
             [
              0.7777777777777778,
              "#fb9f3a"
             ],
             [
              0.8888888888888888,
              "#fdca26"
             ],
             [
              1,
              "#f0f921"
             ]
            ],
            "type": "histogram2dcontour"
           }
          ],
          "mesh3d": [
           {
            "colorbar": {
             "outlinewidth": 0,
             "ticks": ""
            },
            "type": "mesh3d"
           }
          ],
          "parcoords": [
           {
            "line": {
             "colorbar": {
              "outlinewidth": 0,
              "ticks": ""
             }
            },
            "type": "parcoords"
           }
          ],
          "pie": [
           {
            "automargin": true,
            "type": "pie"
           }
          ],
          "scatter": [
           {
            "fillpattern": {
             "fillmode": "overlay",
             "size": 10,
             "solidity": 0.2
            },
            "type": "scatter"
           }
          ],
          "scatter3d": [
           {
            "line": {
             "colorbar": {
              "outlinewidth": 0,
              "ticks": ""
             }
            },
            "marker": {
             "colorbar": {
              "outlinewidth": 0,
              "ticks": ""
             }
            },
            "type": "scatter3d"
           }
          ],
          "scattercarpet": [
           {
            "marker": {
             "colorbar": {
              "outlinewidth": 0,
              "ticks": ""
             }
            },
            "type": "scattercarpet"
           }
          ],
          "scattergeo": [
           {
            "marker": {
             "colorbar": {
              "outlinewidth": 0,
              "ticks": ""
             }
            },
            "type": "scattergeo"
           }
          ],
          "scattergl": [
           {
            "marker": {
             "colorbar": {
              "outlinewidth": 0,
              "ticks": ""
             }
            },
            "type": "scattergl"
           }
          ],
          "scattermapbox": [
           {
            "marker": {
             "colorbar": {
              "outlinewidth": 0,
              "ticks": ""
             }
            },
            "type": "scattermapbox"
           }
          ],
          "scatterpolar": [
           {
            "marker": {
             "colorbar": {
              "outlinewidth": 0,
              "ticks": ""
             }
            },
            "type": "scatterpolar"
           }
          ],
          "scatterpolargl": [
           {
            "marker": {
             "colorbar": {
              "outlinewidth": 0,
              "ticks": ""
             }
            },
            "type": "scatterpolargl"
           }
          ],
          "scatterternary": [
           {
            "marker": {
             "colorbar": {
              "outlinewidth": 0,
              "ticks": ""
             }
            },
            "type": "scatterternary"
           }
          ],
          "surface": [
           {
            "colorbar": {
             "outlinewidth": 0,
             "ticks": ""
            },
            "colorscale": [
             [
              0,
              "#0d0887"
             ],
             [
              0.1111111111111111,
              "#46039f"
             ],
             [
              0.2222222222222222,
              "#7201a8"
             ],
             [
              0.3333333333333333,
              "#9c179e"
             ],
             [
              0.4444444444444444,
              "#bd3786"
             ],
             [
              0.5555555555555556,
              "#d8576b"
             ],
             [
              0.6666666666666666,
              "#ed7953"
             ],
             [
              0.7777777777777778,
              "#fb9f3a"
             ],
             [
              0.8888888888888888,
              "#fdca26"
             ],
             [
              1,
              "#f0f921"
             ]
            ],
            "type": "surface"
           }
          ],
          "table": [
           {
            "cells": {
             "fill": {
              "color": "#EBF0F8"
             },
             "line": {
              "color": "white"
             }
            },
            "header": {
             "fill": {
              "color": "#C8D4E3"
             },
             "line": {
              "color": "white"
             }
            },
            "type": "table"
           }
          ]
         },
         "layout": {
          "annotationdefaults": {
           "arrowcolor": "#2a3f5f",
           "arrowhead": 0,
           "arrowwidth": 1
          },
          "autotypenumbers": "strict",
          "coloraxis": {
           "colorbar": {
            "outlinewidth": 0,
            "ticks": ""
           }
          },
          "colorscale": {
           "diverging": [
            [
             0,
             "#8e0152"
            ],
            [
             0.1,
             "#c51b7d"
            ],
            [
             0.2,
             "#de77ae"
            ],
            [
             0.3,
             "#f1b6da"
            ],
            [
             0.4,
             "#fde0ef"
            ],
            [
             0.5,
             "#f7f7f7"
            ],
            [
             0.6,
             "#e6f5d0"
            ],
            [
             0.7,
             "#b8e186"
            ],
            [
             0.8,
             "#7fbc41"
            ],
            [
             0.9,
             "#4d9221"
            ],
            [
             1,
             "#276419"
            ]
           ],
           "sequential": [
            [
             0,
             "#0d0887"
            ],
            [
             0.1111111111111111,
             "#46039f"
            ],
            [
             0.2222222222222222,
             "#7201a8"
            ],
            [
             0.3333333333333333,
             "#9c179e"
            ],
            [
             0.4444444444444444,
             "#bd3786"
            ],
            [
             0.5555555555555556,
             "#d8576b"
            ],
            [
             0.6666666666666666,
             "#ed7953"
            ],
            [
             0.7777777777777778,
             "#fb9f3a"
            ],
            [
             0.8888888888888888,
             "#fdca26"
            ],
            [
             1,
             "#f0f921"
            ]
           ],
           "sequentialminus": [
            [
             0,
             "#0d0887"
            ],
            [
             0.1111111111111111,
             "#46039f"
            ],
            [
             0.2222222222222222,
             "#7201a8"
            ],
            [
             0.3333333333333333,
             "#9c179e"
            ],
            [
             0.4444444444444444,
             "#bd3786"
            ],
            [
             0.5555555555555556,
             "#d8576b"
            ],
            [
             0.6666666666666666,
             "#ed7953"
            ],
            [
             0.7777777777777778,
             "#fb9f3a"
            ],
            [
             0.8888888888888888,
             "#fdca26"
            ],
            [
             1,
             "#f0f921"
            ]
           ]
          },
          "colorway": [
           "#636efa",
           "#EF553B",
           "#00cc96",
           "#ab63fa",
           "#FFA15A",
           "#19d3f3",
           "#FF6692",
           "#B6E880",
           "#FF97FF",
           "#FECB52"
          ],
          "font": {
           "color": "#2a3f5f"
          },
          "geo": {
           "bgcolor": "white",
           "lakecolor": "white",
           "landcolor": "#E5ECF6",
           "showlakes": true,
           "showland": true,
           "subunitcolor": "white"
          },
          "hoverlabel": {
           "align": "left"
          },
          "hovermode": "closest",
          "mapbox": {
           "style": "light"
          },
          "paper_bgcolor": "white",
          "plot_bgcolor": "#E5ECF6",
          "polar": {
           "angularaxis": {
            "gridcolor": "white",
            "linecolor": "white",
            "ticks": ""
           },
           "bgcolor": "#E5ECF6",
           "radialaxis": {
            "gridcolor": "white",
            "linecolor": "white",
            "ticks": ""
           }
          },
          "scene": {
           "xaxis": {
            "backgroundcolor": "#E5ECF6",
            "gridcolor": "white",
            "gridwidth": 2,
            "linecolor": "white",
            "showbackground": true,
            "ticks": "",
            "zerolinecolor": "white"
           },
           "yaxis": {
            "backgroundcolor": "#E5ECF6",
            "gridcolor": "white",
            "gridwidth": 2,
            "linecolor": "white",
            "showbackground": true,
            "ticks": "",
            "zerolinecolor": "white"
           },
           "zaxis": {
            "backgroundcolor": "#E5ECF6",
            "gridcolor": "white",
            "gridwidth": 2,
            "linecolor": "white",
            "showbackground": true,
            "ticks": "",
            "zerolinecolor": "white"
           }
          },
          "shapedefaults": {
           "line": {
            "color": "#2a3f5f"
           }
          },
          "ternary": {
           "aaxis": {
            "gridcolor": "white",
            "linecolor": "white",
            "ticks": ""
           },
           "baxis": {
            "gridcolor": "white",
            "linecolor": "white",
            "ticks": ""
           },
           "bgcolor": "#E5ECF6",
           "caxis": {
            "gridcolor": "white",
            "linecolor": "white",
            "ticks": ""
           }
          },
          "title": {
           "x": 0.05
          },
          "xaxis": {
           "automargin": true,
           "gridcolor": "white",
           "linecolor": "white",
           "ticks": "",
           "title": {
            "standoff": 15
           },
           "zerolinecolor": "white",
           "zerolinewidth": 2
          },
          "yaxis": {
           "automargin": true,
           "gridcolor": "white",
           "linecolor": "white",
           "ticks": "",
           "title": {
            "standoff": 15
           },
           "zerolinecolor": "white",
           "zerolinewidth": 2
          }
         }
        },
        "width": 1100,
        "xaxis": {
         "anchor": "y",
         "domain": [
          0,
          1
         ],
         "showgrid": false,
         "title": {
          "text": "X"
         },
         "visible": false,
         "zeroline": false
        },
        "yaxis": {
         "anchor": "x",
         "domain": [
          0,
          1
         ],
         "showgrid": false,
         "title": {
          "text": "Y"
         },
         "visible": false,
         "zeroline": false
        }
       }
      },
      "text/html": [
       "<div>                            <div id=\"cba10dc9-9822-417f-95d6-1b6ce61e88e6\" class=\"plotly-graph-div\" style=\"height:320px; width:1100px;\"></div>            <script type=\"text/javascript\">                require([\"plotly\"], function(Plotly) {                    window.PLOTLYENV=window.PLOTLYENV || {};                                    if (document.getElementById(\"cba10dc9-9822-417f-95d6-1b6ce61e88e6\")) {                    Plotly.newPlot(                        \"cba10dc9-9822-417f-95d6-1b6ce61e88e6\",                        [{\"hovertemplate\":\"Geography=Claremont Village-Claremont (East)<br>X=%{x}<br>Y=%{y}<br>Percent=%{marker.size}<br>text=%{text}<extra></extra>\",\"legendgroup\":\"Claremont Village-Claremont (East)\",\"marker\":{\"color\":\"#636efa\",\"size\":[43.2],\"sizemode\":\"area\",\"sizeref\":0.005333333333333334,\"symbol\":\"circle\"},\"mode\":\"markers+text\",\"name\":\"Claremont Village-Claremont (East)\",\"orientation\":\"v\",\"showlegend\":true,\"text\":[\"Claremont Village-Claremont (East)<br>10386<br>43.2%\"],\"x\":[0],\"xaxis\":\"x\",\"y\":[1],\"yaxis\":\"y\",\"type\":\"scatter\",\"textposition\":\"top center\"},{\"hovertemplate\":\"Geography=Melrose<br>X=%{x}<br>Y=%{y}<br>Percent=%{marker.size}<br>text=%{text}<extra></extra>\",\"legendgroup\":\"Melrose\",\"marker\":{\"color\":\"#EF553B\",\"size\":[40.7],\"sizemode\":\"area\",\"sizeref\":0.005333333333333334,\"symbol\":\"circle\"},\"mode\":\"markers+text\",\"name\":\"Melrose\",\"orientation\":\"v\",\"showlegend\":true,\"text\":[\"Melrose<br>17284<br>40.7%\"],\"x\":[1],\"xaxis\":\"x\",\"y\":[1],\"yaxis\":\"y\",\"type\":\"scatter\",\"textposition\":\"top center\"},{\"hovertemplate\":\"Geography=Morrisania<br>X=%{x}<br>Y=%{y}<br>Percent=%{marker.size}<br>text=%{text}<extra></extra>\",\"legendgroup\":\"Morrisania\",\"marker\":{\"color\":\"#00cc96\",\"size\":[35.7],\"sizemode\":\"area\",\"sizeref\":0.005333333333333334,\"symbol\":\"circle\"},\"mode\":\"markers+text\",\"name\":\"Morrisania\",\"orientation\":\"v\",\"showlegend\":true,\"text\":[\"Morrisania<br>12615<br>35.7%\"],\"x\":[2],\"xaxis\":\"x\",\"y\":[1],\"yaxis\":\"y\",\"type\":\"scatter\",\"textposition\":\"top center\"},{\"hovertemplate\":\"Geography=Hunts Point<br>X=%{x}<br>Y=%{y}<br>Percent=%{marker.size}<br>text=%{text}<extra></extra>\",\"legendgroup\":\"Hunts Point\",\"marker\":{\"color\":\"#ab63fa\",\"size\":[34.3],\"sizemode\":\"area\",\"sizeref\":0.005333333333333334,\"symbol\":\"circle\"},\"mode\":\"markers+text\",\"name\":\"Hunts Point\",\"orientation\":\"v\",\"showlegend\":true,\"text\":[\"Hunts Point<br>4696<br>34.3%\"],\"x\":[3],\"xaxis\":\"x\",\"y\":[1],\"yaxis\":\"y\",\"type\":\"scatter\",\"textposition\":\"top center\"},{\"hovertemplate\":\"Geography=Longwood<br>X=%{x}<br>Y=%{y}<br>Percent=%{marker.size}<br>text=%{text}<extra></extra>\",\"legendgroup\":\"Longwood\",\"marker\":{\"color\":\"#FFA15A\",\"size\":[32.0],\"sizemode\":\"area\",\"sizeref\":0.005333333333333334,\"symbol\":\"circle\"},\"mode\":\"markers+text\",\"name\":\"Longwood\",\"orientation\":\"v\",\"showlegend\":true,\"text\":[\"Longwood<br>12751<br>32.0%\"],\"x\":[4],\"xaxis\":\"x\",\"y\":[1],\"yaxis\":\"y\",\"type\":\"scatter\",\"textposition\":\"top center\"},{\"hovertemplate\":\"Geography=Concourse-Concourse Village<br>X=%{x}<br>Y=%{y}<br>Percent=%{marker.size}<br>text=%{text}<extra></extra>\",\"legendgroup\":\"Concourse-Concourse Village\",\"marker\":{\"color\":\"#19d3f3\",\"size\":[31.9],\"sizemode\":\"area\",\"sizeref\":0.005333333333333334,\"symbol\":\"circle\"},\"mode\":\"markers+text\",\"name\":\"Concourse-Concourse Village\",\"orientation\":\"v\",\"showlegend\":true,\"text\":[\"Concourse-Concourse Village<br>21730<br>31.9%\"],\"x\":[5],\"xaxis\":\"x\",\"y\":[1],\"yaxis\":\"y\",\"type\":\"scatter\",\"textposition\":\"top center\"},{\"hovertemplate\":\"Geography=Crotona Park East<br>X=%{x}<br>Y=%{y}<br>Percent=%{marker.size}<br>text=%{text}<extra></extra>\",\"legendgroup\":\"Crotona Park East\",\"marker\":{\"color\":\"#FF6692\",\"size\":[29.4],\"sizemode\":\"area\",\"sizeref\":0.005333333333333334,\"symbol\":\"circle\"},\"mode\":\"markers+text\",\"name\":\"Crotona Park East\",\"orientation\":\"v\",\"showlegend\":true,\"text\":[\"Crotona Park East<br>8519<br>29.4%\"],\"x\":[6],\"xaxis\":\"x\",\"y\":[1],\"yaxis\":\"y\",\"type\":\"scatter\",\"textposition\":\"top center\"}],                        {\"template\":{\"data\":{\"histogram2dcontour\":[{\"type\":\"histogram2dcontour\",\"colorbar\":{\"outlinewidth\":0,\"ticks\":\"\"},\"colorscale\":[[0.0,\"#0d0887\"],[0.1111111111111111,\"#46039f\"],[0.2222222222222222,\"#7201a8\"],[0.3333333333333333,\"#9c179e\"],[0.4444444444444444,\"#bd3786\"],[0.5555555555555556,\"#d8576b\"],[0.6666666666666666,\"#ed7953\"],[0.7777777777777778,\"#fb9f3a\"],[0.8888888888888888,\"#fdca26\"],[1.0,\"#f0f921\"]]}],\"choropleth\":[{\"type\":\"choropleth\",\"colorbar\":{\"outlinewidth\":0,\"ticks\":\"\"}}],\"histogram2d\":[{\"type\":\"histogram2d\",\"colorbar\":{\"outlinewidth\":0,\"ticks\":\"\"},\"colorscale\":[[0.0,\"#0d0887\"],[0.1111111111111111,\"#46039f\"],[0.2222222222222222,\"#7201a8\"],[0.3333333333333333,\"#9c179e\"],[0.4444444444444444,\"#bd3786\"],[0.5555555555555556,\"#d8576b\"],[0.6666666666666666,\"#ed7953\"],[0.7777777777777778,\"#fb9f3a\"],[0.8888888888888888,\"#fdca26\"],[1.0,\"#f0f921\"]]}],\"heatmap\":[{\"type\":\"heatmap\",\"colorbar\":{\"outlinewidth\":0,\"ticks\":\"\"},\"colorscale\":[[0.0,\"#0d0887\"],[0.1111111111111111,\"#46039f\"],[0.2222222222222222,\"#7201a8\"],[0.3333333333333333,\"#9c179e\"],[0.4444444444444444,\"#bd3786\"],[0.5555555555555556,\"#d8576b\"],[0.6666666666666666,\"#ed7953\"],[0.7777777777777778,\"#fb9f3a\"],[0.8888888888888888,\"#fdca26\"],[1.0,\"#f0f921\"]]}],\"heatmapgl\":[{\"type\":\"heatmapgl\",\"colorbar\":{\"outlinewidth\":0,\"ticks\":\"\"},\"colorscale\":[[0.0,\"#0d0887\"],[0.1111111111111111,\"#46039f\"],[0.2222222222222222,\"#7201a8\"],[0.3333333333333333,\"#9c179e\"],[0.4444444444444444,\"#bd3786\"],[0.5555555555555556,\"#d8576b\"],[0.6666666666666666,\"#ed7953\"],[0.7777777777777778,\"#fb9f3a\"],[0.8888888888888888,\"#fdca26\"],[1.0,\"#f0f921\"]]}],\"contourcarpet\":[{\"type\":\"contourcarpet\",\"colorbar\":{\"outlinewidth\":0,\"ticks\":\"\"}}],\"contour\":[{\"type\":\"contour\",\"colorbar\":{\"outlinewidth\":0,\"ticks\":\"\"},\"colorscale\":[[0.0,\"#0d0887\"],[0.1111111111111111,\"#46039f\"],[0.2222222222222222,\"#7201a8\"],[0.3333333333333333,\"#9c179e\"],[0.4444444444444444,\"#bd3786\"],[0.5555555555555556,\"#d8576b\"],[0.6666666666666666,\"#ed7953\"],[0.7777777777777778,\"#fb9f3a\"],[0.8888888888888888,\"#fdca26\"],[1.0,\"#f0f921\"]]}],\"surface\":[{\"type\":\"surface\",\"colorbar\":{\"outlinewidth\":0,\"ticks\":\"\"},\"colorscale\":[[0.0,\"#0d0887\"],[0.1111111111111111,\"#46039f\"],[0.2222222222222222,\"#7201a8\"],[0.3333333333333333,\"#9c179e\"],[0.4444444444444444,\"#bd3786\"],[0.5555555555555556,\"#d8576b\"],[0.6666666666666666,\"#ed7953\"],[0.7777777777777778,\"#fb9f3a\"],[0.8888888888888888,\"#fdca26\"],[1.0,\"#f0f921\"]]}],\"mesh3d\":[{\"type\":\"mesh3d\",\"colorbar\":{\"outlinewidth\":0,\"ticks\":\"\"}}],\"scatter\":[{\"fillpattern\":{\"fillmode\":\"overlay\",\"size\":10,\"solidity\":0.2},\"type\":\"scatter\"}],\"parcoords\":[{\"type\":\"parcoords\",\"line\":{\"colorbar\":{\"outlinewidth\":0,\"ticks\":\"\"}}}],\"scatterpolargl\":[{\"type\":\"scatterpolargl\",\"marker\":{\"colorbar\":{\"outlinewidth\":0,\"ticks\":\"\"}}}],\"bar\":[{\"error_x\":{\"color\":\"#2a3f5f\"},\"error_y\":{\"color\":\"#2a3f5f\"},\"marker\":{\"line\":{\"color\":\"#E5ECF6\",\"width\":0.5},\"pattern\":{\"fillmode\":\"overlay\",\"size\":10,\"solidity\":0.2}},\"type\":\"bar\"}],\"scattergeo\":[{\"type\":\"scattergeo\",\"marker\":{\"colorbar\":{\"outlinewidth\":0,\"ticks\":\"\"}}}],\"scatterpolar\":[{\"type\":\"scatterpolar\",\"marker\":{\"colorbar\":{\"outlinewidth\":0,\"ticks\":\"\"}}}],\"histogram\":[{\"marker\":{\"pattern\":{\"fillmode\":\"overlay\",\"size\":10,\"solidity\":0.2}},\"type\":\"histogram\"}],\"scattergl\":[{\"type\":\"scattergl\",\"marker\":{\"colorbar\":{\"outlinewidth\":0,\"ticks\":\"\"}}}],\"scatter3d\":[{\"type\":\"scatter3d\",\"line\":{\"colorbar\":{\"outlinewidth\":0,\"ticks\":\"\"}},\"marker\":{\"colorbar\":{\"outlinewidth\":0,\"ticks\":\"\"}}}],\"scattermapbox\":[{\"type\":\"scattermapbox\",\"marker\":{\"colorbar\":{\"outlinewidth\":0,\"ticks\":\"\"}}}],\"scatterternary\":[{\"type\":\"scatterternary\",\"marker\":{\"colorbar\":{\"outlinewidth\":0,\"ticks\":\"\"}}}],\"scattercarpet\":[{\"type\":\"scattercarpet\",\"marker\":{\"colorbar\":{\"outlinewidth\":0,\"ticks\":\"\"}}}],\"carpet\":[{\"aaxis\":{\"endlinecolor\":\"#2a3f5f\",\"gridcolor\":\"white\",\"linecolor\":\"white\",\"minorgridcolor\":\"white\",\"startlinecolor\":\"#2a3f5f\"},\"baxis\":{\"endlinecolor\":\"#2a3f5f\",\"gridcolor\":\"white\",\"linecolor\":\"white\",\"minorgridcolor\":\"white\",\"startlinecolor\":\"#2a3f5f\"},\"type\":\"carpet\"}],\"table\":[{\"cells\":{\"fill\":{\"color\":\"#EBF0F8\"},\"line\":{\"color\":\"white\"}},\"header\":{\"fill\":{\"color\":\"#C8D4E3\"},\"line\":{\"color\":\"white\"}},\"type\":\"table\"}],\"barpolar\":[{\"marker\":{\"line\":{\"color\":\"#E5ECF6\",\"width\":0.5},\"pattern\":{\"fillmode\":\"overlay\",\"size\":10,\"solidity\":0.2}},\"type\":\"barpolar\"}],\"pie\":[{\"automargin\":true,\"type\":\"pie\"}]},\"layout\":{\"autotypenumbers\":\"strict\",\"colorway\":[\"#636efa\",\"#EF553B\",\"#00cc96\",\"#ab63fa\",\"#FFA15A\",\"#19d3f3\",\"#FF6692\",\"#B6E880\",\"#FF97FF\",\"#FECB52\"],\"font\":{\"color\":\"#2a3f5f\"},\"hovermode\":\"closest\",\"hoverlabel\":{\"align\":\"left\"},\"paper_bgcolor\":\"white\",\"plot_bgcolor\":\"#E5ECF6\",\"polar\":{\"bgcolor\":\"#E5ECF6\",\"angularaxis\":{\"gridcolor\":\"white\",\"linecolor\":\"white\",\"ticks\":\"\"},\"radialaxis\":{\"gridcolor\":\"white\",\"linecolor\":\"white\",\"ticks\":\"\"}},\"ternary\":{\"bgcolor\":\"#E5ECF6\",\"aaxis\":{\"gridcolor\":\"white\",\"linecolor\":\"white\",\"ticks\":\"\"},\"baxis\":{\"gridcolor\":\"white\",\"linecolor\":\"white\",\"ticks\":\"\"},\"caxis\":{\"gridcolor\":\"white\",\"linecolor\":\"white\",\"ticks\":\"\"}},\"coloraxis\":{\"colorbar\":{\"outlinewidth\":0,\"ticks\":\"\"}},\"colorscale\":{\"sequential\":[[0.0,\"#0d0887\"],[0.1111111111111111,\"#46039f\"],[0.2222222222222222,\"#7201a8\"],[0.3333333333333333,\"#9c179e\"],[0.4444444444444444,\"#bd3786\"],[0.5555555555555556,\"#d8576b\"],[0.6666666666666666,\"#ed7953\"],[0.7777777777777778,\"#fb9f3a\"],[0.8888888888888888,\"#fdca26\"],[1.0,\"#f0f921\"]],\"sequentialminus\":[[0.0,\"#0d0887\"],[0.1111111111111111,\"#46039f\"],[0.2222222222222222,\"#7201a8\"],[0.3333333333333333,\"#9c179e\"],[0.4444444444444444,\"#bd3786\"],[0.5555555555555556,\"#d8576b\"],[0.6666666666666666,\"#ed7953\"],[0.7777777777777778,\"#fb9f3a\"],[0.8888888888888888,\"#fdca26\"],[1.0,\"#f0f921\"]],\"diverging\":[[0,\"#8e0152\"],[0.1,\"#c51b7d\"],[0.2,\"#de77ae\"],[0.3,\"#f1b6da\"],[0.4,\"#fde0ef\"],[0.5,\"#f7f7f7\"],[0.6,\"#e6f5d0\"],[0.7,\"#b8e186\"],[0.8,\"#7fbc41\"],[0.9,\"#4d9221\"],[1,\"#276419\"]]},\"xaxis\":{\"gridcolor\":\"white\",\"linecolor\":\"white\",\"ticks\":\"\",\"title\":{\"standoff\":15},\"zerolinecolor\":\"white\",\"automargin\":true,\"zerolinewidth\":2},\"yaxis\":{\"gridcolor\":\"white\",\"linecolor\":\"white\",\"ticks\":\"\",\"title\":{\"standoff\":15},\"zerolinecolor\":\"white\",\"automargin\":true,\"zerolinewidth\":2},\"scene\":{\"xaxis\":{\"backgroundcolor\":\"#E5ECF6\",\"gridcolor\":\"white\",\"linecolor\":\"white\",\"showbackground\":true,\"ticks\":\"\",\"zerolinecolor\":\"white\",\"gridwidth\":2},\"yaxis\":{\"backgroundcolor\":\"#E5ECF6\",\"gridcolor\":\"white\",\"linecolor\":\"white\",\"showbackground\":true,\"ticks\":\"\",\"zerolinecolor\":\"white\",\"gridwidth\":2},\"zaxis\":{\"backgroundcolor\":\"#E5ECF6\",\"gridcolor\":\"white\",\"linecolor\":\"white\",\"showbackground\":true,\"ticks\":\"\",\"zerolinecolor\":\"white\",\"gridwidth\":2}},\"shapedefaults\":{\"line\":{\"color\":\"#2a3f5f\"}},\"annotationdefaults\":{\"arrowcolor\":\"#2a3f5f\",\"arrowhead\":0,\"arrowwidth\":1},\"geo\":{\"bgcolor\":\"white\",\"landcolor\":\"#E5ECF6\",\"subunitcolor\":\"white\",\"showland\":true,\"showlakes\":true,\"lakecolor\":\"white\"},\"title\":{\"x\":0.05},\"mapbox\":{\"style\":\"light\"}}},\"xaxis\":{\"anchor\":\"y\",\"domain\":[0.0,1.0],\"title\":{\"text\":\"X\"},\"showgrid\":false,\"zeroline\":false,\"visible\":false},\"yaxis\":{\"anchor\":\"x\",\"domain\":[0.0,1.0],\"title\":{\"text\":\"Y\"},\"showgrid\":false,\"zeroline\":false,\"visible\":false},\"legend\":{\"title\":{\"text\":\"Geography\"},\"tracegroupgap\":0,\"itemsizing\":\"constant\"},\"margin\":{\"t\":50,\"l\":0,\"r\":0,\"b\":0},\"width\":1100,\"height\":320,\"showlegend\":false,\"plot_bgcolor\":\"white\",\"paper_bgcolor\":\"white\"},                        {\"responsive\": true}                    ).then(function(){\n",
       "                            \n",
       "var gd = document.getElementById('cba10dc9-9822-417f-95d6-1b6ce61e88e6');\n",
       "var x = new MutationObserver(function (mutations, observer) {{\n",
       "        var display = window.getComputedStyle(gd).display;\n",
       "        if (!display || display === 'none') {{\n",
       "            console.log([gd, 'removed!']);\n",
       "            Plotly.purge(gd);\n",
       "            observer.disconnect();\n",
       "        }}\n",
       "}});\n",
       "\n",
       "// Listen for the removal of the full notebook cells\n",
       "var notebookContainer = gd.closest('#notebook-container');\n",
       "if (notebookContainer) {{\n",
       "    x.observe(notebookContainer, {childList: true});\n",
       "}}\n",
       "\n",
       "// Listen for the clearing of the current output cell\n",
       "var outputEl = gd.closest('.output');\n",
       "if (outputEl) {{\n",
       "    x.observe(outputEl, {childList: true});\n",
       "}}\n",
       "\n",
       "                        })                };                });            </script>        </div>"
      ]
     },
     "metadata": {},
     "output_type": "display_data"
    }
   ],
   "source": [
    "label = [i+'<br>'+str(j)+'<br>'+str(k)+'%' for i,j,k in zip(sorted_poverty_percentage.Geography,\n",
    "                                                            sorted_poverty_percentage.Number,\n",
    "                                                            sorted_poverty_percentage.Percent)]\n",
    "\n",
    "\n",
    "fig = px.scatter(sorted_poverty_percentage, x='X', y='Y',\n",
    "                 color='Geography',\n",
    "                 size='Percent', text=label, size_max=90\n",
    "                )\n",
    "fig.update_layout(width=1100, height=320,\n",
    "                  margin = dict(t=50, l=0, r=0, b=0),\n",
    "                  showlegend=False\n",
    "                 )\n",
    "\n",
    "fig.update_traces(textposition='top center')\n",
    "fig.update_xaxes(showgrid=False, zeroline=False, visible=False)\n",
    "fig.update_yaxes(showgrid=False, zeroline=False, visible=False)\n",
    "fig.update_layout({'plot_bgcolor': 'white',\n",
    "                   'paper_bgcolor': 'white'})\n",
    "fig.show()"
   ]
  },
  {
   "cell_type": "code",
   "execution_count": 399,
   "id": "c7c2fc25",
   "metadata": {},
   "outputs": [
    {
     "data": {
      "application/vnd.plotly.v1+json": {
       "config": {
        "plotlyServerURL": "https://plot.ly"
       },
       "data": [
        {
         "hovertemplate": "Geography=Claremont Village-Claremont (East)<br>X=%{x}<br>Y=%{y}<br>Number=%{marker.size}<br>text=%{text}<extra></extra>",
         "legendgroup": "Claremont Village-Claremont (East)",
         "marker": {
          "color": "#636efa",
          "size": [
           10386
          ],
          "sizemode": "area",
          "sizeref": 2.6827160493827162,
          "symbol": "circle"
         },
         "mode": "markers+text",
         "name": "Claremont Village-Claremont (East)",
         "orientation": "v",
         "showlegend": true,
         "text": [
          "Claremont Village-Claremont (East)<br>10386<br>43.2%"
         ],
         "textposition": "top center",
         "type": "scatter",
         "x": [
          0
         ],
         "xaxis": "x",
         "y": [
          1
         ],
         "yaxis": "y"
        },
        {
         "hovertemplate": "Geography=Melrose<br>X=%{x}<br>Y=%{y}<br>Number=%{marker.size}<br>text=%{text}<extra></extra>",
         "legendgroup": "Melrose",
         "marker": {
          "color": "#EF553B",
          "size": [
           17284
          ],
          "sizemode": "area",
          "sizeref": 2.6827160493827162,
          "symbol": "circle"
         },
         "mode": "markers+text",
         "name": "Melrose",
         "orientation": "v",
         "showlegend": true,
         "text": [
          "Melrose<br>17284<br>40.7%"
         ],
         "textposition": "top center",
         "type": "scatter",
         "x": [
          1
         ],
         "xaxis": "x",
         "y": [
          1
         ],
         "yaxis": "y"
        },
        {
         "hovertemplate": "Geography=Morrisania<br>X=%{x}<br>Y=%{y}<br>Number=%{marker.size}<br>text=%{text}<extra></extra>",
         "legendgroup": "Morrisania",
         "marker": {
          "color": "#00cc96",
          "size": [
           12615
          ],
          "sizemode": "area",
          "sizeref": 2.6827160493827162,
          "symbol": "circle"
         },
         "mode": "markers+text",
         "name": "Morrisania",
         "orientation": "v",
         "showlegend": true,
         "text": [
          "Morrisania<br>12615<br>35.7%"
         ],
         "textposition": "top center",
         "type": "scatter",
         "x": [
          2
         ],
         "xaxis": "x",
         "y": [
          1
         ],
         "yaxis": "y"
        },
        {
         "hovertemplate": "Geography=Hunts Point<br>X=%{x}<br>Y=%{y}<br>Number=%{marker.size}<br>text=%{text}<extra></extra>",
         "legendgroup": "Hunts Point",
         "marker": {
          "color": "#ab63fa",
          "size": [
           4696
          ],
          "sizemode": "area",
          "sizeref": 2.6827160493827162,
          "symbol": "circle"
         },
         "mode": "markers+text",
         "name": "Hunts Point",
         "orientation": "v",
         "showlegend": true,
         "text": [
          "Hunts Point<br>4696<br>34.3%"
         ],
         "textposition": "top center",
         "type": "scatter",
         "x": [
          3
         ],
         "xaxis": "x",
         "y": [
          1
         ],
         "yaxis": "y"
        },
        {
         "hovertemplate": "Geography=Longwood<br>X=%{x}<br>Y=%{y}<br>Number=%{marker.size}<br>text=%{text}<extra></extra>",
         "legendgroup": "Longwood",
         "marker": {
          "color": "#FFA15A",
          "size": [
           12751
          ],
          "sizemode": "area",
          "sizeref": 2.6827160493827162,
          "symbol": "circle"
         },
         "mode": "markers+text",
         "name": "Longwood",
         "orientation": "v",
         "showlegend": true,
         "text": [
          "Longwood<br>12751<br>32.0%"
         ],
         "textposition": "top center",
         "type": "scatter",
         "x": [
          4
         ],
         "xaxis": "x",
         "y": [
          1
         ],
         "yaxis": "y"
        },
        {
         "hovertemplate": "Geography=Concourse-Concourse Village<br>X=%{x}<br>Y=%{y}<br>Number=%{marker.size}<br>text=%{text}<extra></extra>",
         "legendgroup": "Concourse-Concourse Village",
         "marker": {
          "color": "#19d3f3",
          "size": [
           21730
          ],
          "sizemode": "area",
          "sizeref": 2.6827160493827162,
          "symbol": "circle"
         },
         "mode": "markers+text",
         "name": "Concourse-Concourse Village",
         "orientation": "v",
         "showlegend": true,
         "text": [
          "Concourse-Concourse Village<br>21730<br>31.9%"
         ],
         "textposition": "top center",
         "type": "scatter",
         "x": [
          5
         ],
         "xaxis": "x",
         "y": [
          1
         ],
         "yaxis": "y"
        },
        {
         "hovertemplate": "Geography=Crotona Park East<br>X=%{x}<br>Y=%{y}<br>Number=%{marker.size}<br>text=%{text}<extra></extra>",
         "legendgroup": "Crotona Park East",
         "marker": {
          "color": "#FF6692",
          "size": [
           8519
          ],
          "sizemode": "area",
          "sizeref": 2.6827160493827162,
          "symbol": "circle"
         },
         "mode": "markers+text",
         "name": "Crotona Park East",
         "orientation": "v",
         "showlegend": true,
         "text": [
          "Crotona Park East<br>8519<br>29.4%"
         ],
         "textposition": "top center",
         "type": "scatter",
         "x": [
          6
         ],
         "xaxis": "x",
         "y": [
          1
         ],
         "yaxis": "y"
        }
       ],
       "layout": {
        "height": 320,
        "legend": {
         "itemsizing": "constant",
         "title": {
          "text": "Geography"
         },
         "tracegroupgap": 0
        },
        "margin": {
         "b": 0,
         "l": 0,
         "r": 0,
         "t": 50
        },
        "paper_bgcolor": "white",
        "plot_bgcolor": "white",
        "showlegend": false,
        "template": {
         "data": {
          "bar": [
           {
            "error_x": {
             "color": "#2a3f5f"
            },
            "error_y": {
             "color": "#2a3f5f"
            },
            "marker": {
             "line": {
              "color": "#E5ECF6",
              "width": 0.5
             },
             "pattern": {
              "fillmode": "overlay",
              "size": 10,
              "solidity": 0.2
             }
            },
            "type": "bar"
           }
          ],
          "barpolar": [
           {
            "marker": {
             "line": {
              "color": "#E5ECF6",
              "width": 0.5
             },
             "pattern": {
              "fillmode": "overlay",
              "size": 10,
              "solidity": 0.2
             }
            },
            "type": "barpolar"
           }
          ],
          "carpet": [
           {
            "aaxis": {
             "endlinecolor": "#2a3f5f",
             "gridcolor": "white",
             "linecolor": "white",
             "minorgridcolor": "white",
             "startlinecolor": "#2a3f5f"
            },
            "baxis": {
             "endlinecolor": "#2a3f5f",
             "gridcolor": "white",
             "linecolor": "white",
             "minorgridcolor": "white",
             "startlinecolor": "#2a3f5f"
            },
            "type": "carpet"
           }
          ],
          "choropleth": [
           {
            "colorbar": {
             "outlinewidth": 0,
             "ticks": ""
            },
            "type": "choropleth"
           }
          ],
          "contour": [
           {
            "colorbar": {
             "outlinewidth": 0,
             "ticks": ""
            },
            "colorscale": [
             [
              0,
              "#0d0887"
             ],
             [
              0.1111111111111111,
              "#46039f"
             ],
             [
              0.2222222222222222,
              "#7201a8"
             ],
             [
              0.3333333333333333,
              "#9c179e"
             ],
             [
              0.4444444444444444,
              "#bd3786"
             ],
             [
              0.5555555555555556,
              "#d8576b"
             ],
             [
              0.6666666666666666,
              "#ed7953"
             ],
             [
              0.7777777777777778,
              "#fb9f3a"
             ],
             [
              0.8888888888888888,
              "#fdca26"
             ],
             [
              1,
              "#f0f921"
             ]
            ],
            "type": "contour"
           }
          ],
          "contourcarpet": [
           {
            "colorbar": {
             "outlinewidth": 0,
             "ticks": ""
            },
            "type": "contourcarpet"
           }
          ],
          "heatmap": [
           {
            "colorbar": {
             "outlinewidth": 0,
             "ticks": ""
            },
            "colorscale": [
             [
              0,
              "#0d0887"
             ],
             [
              0.1111111111111111,
              "#46039f"
             ],
             [
              0.2222222222222222,
              "#7201a8"
             ],
             [
              0.3333333333333333,
              "#9c179e"
             ],
             [
              0.4444444444444444,
              "#bd3786"
             ],
             [
              0.5555555555555556,
              "#d8576b"
             ],
             [
              0.6666666666666666,
              "#ed7953"
             ],
             [
              0.7777777777777778,
              "#fb9f3a"
             ],
             [
              0.8888888888888888,
              "#fdca26"
             ],
             [
              1,
              "#f0f921"
             ]
            ],
            "type": "heatmap"
           }
          ],
          "heatmapgl": [
           {
            "colorbar": {
             "outlinewidth": 0,
             "ticks": ""
            },
            "colorscale": [
             [
              0,
              "#0d0887"
             ],
             [
              0.1111111111111111,
              "#46039f"
             ],
             [
              0.2222222222222222,
              "#7201a8"
             ],
             [
              0.3333333333333333,
              "#9c179e"
             ],
             [
              0.4444444444444444,
              "#bd3786"
             ],
             [
              0.5555555555555556,
              "#d8576b"
             ],
             [
              0.6666666666666666,
              "#ed7953"
             ],
             [
              0.7777777777777778,
              "#fb9f3a"
             ],
             [
              0.8888888888888888,
              "#fdca26"
             ],
             [
              1,
              "#f0f921"
             ]
            ],
            "type": "heatmapgl"
           }
          ],
          "histogram": [
           {
            "marker": {
             "pattern": {
              "fillmode": "overlay",
              "size": 10,
              "solidity": 0.2
             }
            },
            "type": "histogram"
           }
          ],
          "histogram2d": [
           {
            "colorbar": {
             "outlinewidth": 0,
             "ticks": ""
            },
            "colorscale": [
             [
              0,
              "#0d0887"
             ],
             [
              0.1111111111111111,
              "#46039f"
             ],
             [
              0.2222222222222222,
              "#7201a8"
             ],
             [
              0.3333333333333333,
              "#9c179e"
             ],
             [
              0.4444444444444444,
              "#bd3786"
             ],
             [
              0.5555555555555556,
              "#d8576b"
             ],
             [
              0.6666666666666666,
              "#ed7953"
             ],
             [
              0.7777777777777778,
              "#fb9f3a"
             ],
             [
              0.8888888888888888,
              "#fdca26"
             ],
             [
              1,
              "#f0f921"
             ]
            ],
            "type": "histogram2d"
           }
          ],
          "histogram2dcontour": [
           {
            "colorbar": {
             "outlinewidth": 0,
             "ticks": ""
            },
            "colorscale": [
             [
              0,
              "#0d0887"
             ],
             [
              0.1111111111111111,
              "#46039f"
             ],
             [
              0.2222222222222222,
              "#7201a8"
             ],
             [
              0.3333333333333333,
              "#9c179e"
             ],
             [
              0.4444444444444444,
              "#bd3786"
             ],
             [
              0.5555555555555556,
              "#d8576b"
             ],
             [
              0.6666666666666666,
              "#ed7953"
             ],
             [
              0.7777777777777778,
              "#fb9f3a"
             ],
             [
              0.8888888888888888,
              "#fdca26"
             ],
             [
              1,
              "#f0f921"
             ]
            ],
            "type": "histogram2dcontour"
           }
          ],
          "mesh3d": [
           {
            "colorbar": {
             "outlinewidth": 0,
             "ticks": ""
            },
            "type": "mesh3d"
           }
          ],
          "parcoords": [
           {
            "line": {
             "colorbar": {
              "outlinewidth": 0,
              "ticks": ""
             }
            },
            "type": "parcoords"
           }
          ],
          "pie": [
           {
            "automargin": true,
            "type": "pie"
           }
          ],
          "scatter": [
           {
            "fillpattern": {
             "fillmode": "overlay",
             "size": 10,
             "solidity": 0.2
            },
            "type": "scatter"
           }
          ],
          "scatter3d": [
           {
            "line": {
             "colorbar": {
              "outlinewidth": 0,
              "ticks": ""
             }
            },
            "marker": {
             "colorbar": {
              "outlinewidth": 0,
              "ticks": ""
             }
            },
            "type": "scatter3d"
           }
          ],
          "scattercarpet": [
           {
            "marker": {
             "colorbar": {
              "outlinewidth": 0,
              "ticks": ""
             }
            },
            "type": "scattercarpet"
           }
          ],
          "scattergeo": [
           {
            "marker": {
             "colorbar": {
              "outlinewidth": 0,
              "ticks": ""
             }
            },
            "type": "scattergeo"
           }
          ],
          "scattergl": [
           {
            "marker": {
             "colorbar": {
              "outlinewidth": 0,
              "ticks": ""
             }
            },
            "type": "scattergl"
           }
          ],
          "scattermapbox": [
           {
            "marker": {
             "colorbar": {
              "outlinewidth": 0,
              "ticks": ""
             }
            },
            "type": "scattermapbox"
           }
          ],
          "scatterpolar": [
           {
            "marker": {
             "colorbar": {
              "outlinewidth": 0,
              "ticks": ""
             }
            },
            "type": "scatterpolar"
           }
          ],
          "scatterpolargl": [
           {
            "marker": {
             "colorbar": {
              "outlinewidth": 0,
              "ticks": ""
             }
            },
            "type": "scatterpolargl"
           }
          ],
          "scatterternary": [
           {
            "marker": {
             "colorbar": {
              "outlinewidth": 0,
              "ticks": ""
             }
            },
            "type": "scatterternary"
           }
          ],
          "surface": [
           {
            "colorbar": {
             "outlinewidth": 0,
             "ticks": ""
            },
            "colorscale": [
             [
              0,
              "#0d0887"
             ],
             [
              0.1111111111111111,
              "#46039f"
             ],
             [
              0.2222222222222222,
              "#7201a8"
             ],
             [
              0.3333333333333333,
              "#9c179e"
             ],
             [
              0.4444444444444444,
              "#bd3786"
             ],
             [
              0.5555555555555556,
              "#d8576b"
             ],
             [
              0.6666666666666666,
              "#ed7953"
             ],
             [
              0.7777777777777778,
              "#fb9f3a"
             ],
             [
              0.8888888888888888,
              "#fdca26"
             ],
             [
              1,
              "#f0f921"
             ]
            ],
            "type": "surface"
           }
          ],
          "table": [
           {
            "cells": {
             "fill": {
              "color": "#EBF0F8"
             },
             "line": {
              "color": "white"
             }
            },
            "header": {
             "fill": {
              "color": "#C8D4E3"
             },
             "line": {
              "color": "white"
             }
            },
            "type": "table"
           }
          ]
         },
         "layout": {
          "annotationdefaults": {
           "arrowcolor": "#2a3f5f",
           "arrowhead": 0,
           "arrowwidth": 1
          },
          "autotypenumbers": "strict",
          "coloraxis": {
           "colorbar": {
            "outlinewidth": 0,
            "ticks": ""
           }
          },
          "colorscale": {
           "diverging": [
            [
             0,
             "#8e0152"
            ],
            [
             0.1,
             "#c51b7d"
            ],
            [
             0.2,
             "#de77ae"
            ],
            [
             0.3,
             "#f1b6da"
            ],
            [
             0.4,
             "#fde0ef"
            ],
            [
             0.5,
             "#f7f7f7"
            ],
            [
             0.6,
             "#e6f5d0"
            ],
            [
             0.7,
             "#b8e186"
            ],
            [
             0.8,
             "#7fbc41"
            ],
            [
             0.9,
             "#4d9221"
            ],
            [
             1,
             "#276419"
            ]
           ],
           "sequential": [
            [
             0,
             "#0d0887"
            ],
            [
             0.1111111111111111,
             "#46039f"
            ],
            [
             0.2222222222222222,
             "#7201a8"
            ],
            [
             0.3333333333333333,
             "#9c179e"
            ],
            [
             0.4444444444444444,
             "#bd3786"
            ],
            [
             0.5555555555555556,
             "#d8576b"
            ],
            [
             0.6666666666666666,
             "#ed7953"
            ],
            [
             0.7777777777777778,
             "#fb9f3a"
            ],
            [
             0.8888888888888888,
             "#fdca26"
            ],
            [
             1,
             "#f0f921"
            ]
           ],
           "sequentialminus": [
            [
             0,
             "#0d0887"
            ],
            [
             0.1111111111111111,
             "#46039f"
            ],
            [
             0.2222222222222222,
             "#7201a8"
            ],
            [
             0.3333333333333333,
             "#9c179e"
            ],
            [
             0.4444444444444444,
             "#bd3786"
            ],
            [
             0.5555555555555556,
             "#d8576b"
            ],
            [
             0.6666666666666666,
             "#ed7953"
            ],
            [
             0.7777777777777778,
             "#fb9f3a"
            ],
            [
             0.8888888888888888,
             "#fdca26"
            ],
            [
             1,
             "#f0f921"
            ]
           ]
          },
          "colorway": [
           "#636efa",
           "#EF553B",
           "#00cc96",
           "#ab63fa",
           "#FFA15A",
           "#19d3f3",
           "#FF6692",
           "#B6E880",
           "#FF97FF",
           "#FECB52"
          ],
          "font": {
           "color": "#2a3f5f"
          },
          "geo": {
           "bgcolor": "white",
           "lakecolor": "white",
           "landcolor": "#E5ECF6",
           "showlakes": true,
           "showland": true,
           "subunitcolor": "white"
          },
          "hoverlabel": {
           "align": "left"
          },
          "hovermode": "closest",
          "mapbox": {
           "style": "light"
          },
          "paper_bgcolor": "white",
          "plot_bgcolor": "#E5ECF6",
          "polar": {
           "angularaxis": {
            "gridcolor": "white",
            "linecolor": "white",
            "ticks": ""
           },
           "bgcolor": "#E5ECF6",
           "radialaxis": {
            "gridcolor": "white",
            "linecolor": "white",
            "ticks": ""
           }
          },
          "scene": {
           "xaxis": {
            "backgroundcolor": "#E5ECF6",
            "gridcolor": "white",
            "gridwidth": 2,
            "linecolor": "white",
            "showbackground": true,
            "ticks": "",
            "zerolinecolor": "white"
           },
           "yaxis": {
            "backgroundcolor": "#E5ECF6",
            "gridcolor": "white",
            "gridwidth": 2,
            "linecolor": "white",
            "showbackground": true,
            "ticks": "",
            "zerolinecolor": "white"
           },
           "zaxis": {
            "backgroundcolor": "#E5ECF6",
            "gridcolor": "white",
            "gridwidth": 2,
            "linecolor": "white",
            "showbackground": true,
            "ticks": "",
            "zerolinecolor": "white"
           }
          },
          "shapedefaults": {
           "line": {
            "color": "#2a3f5f"
           }
          },
          "ternary": {
           "aaxis": {
            "gridcolor": "white",
            "linecolor": "white",
            "ticks": ""
           },
           "baxis": {
            "gridcolor": "white",
            "linecolor": "white",
            "ticks": ""
           },
           "bgcolor": "#E5ECF6",
           "caxis": {
            "gridcolor": "white",
            "linecolor": "white",
            "ticks": ""
           }
          },
          "title": {
           "x": 0.05
          },
          "xaxis": {
           "automargin": true,
           "gridcolor": "white",
           "linecolor": "white",
           "ticks": "",
           "title": {
            "standoff": 15
           },
           "zerolinecolor": "white",
           "zerolinewidth": 2
          },
          "yaxis": {
           "automargin": true,
           "gridcolor": "white",
           "linecolor": "white",
           "ticks": "",
           "title": {
            "standoff": 15
           },
           "zerolinecolor": "white",
           "zerolinewidth": 2
          }
         }
        },
        "width": 1090,
        "xaxis": {
         "anchor": "y",
         "domain": [
          0,
          1
         ],
         "showgrid": false,
         "title": {
          "text": "X"
         },
         "visible": false,
         "zeroline": false
        },
        "yaxis": {
         "anchor": "x",
         "domain": [
          0,
          1
         ],
         "showgrid": false,
         "title": {
          "text": "Y"
         },
         "visible": false,
         "zeroline": false
        }
       }
      },
      "text/html": [
       "<div>                            <div id=\"94e5395e-2b74-442e-ae3d-241eecb3d045\" class=\"plotly-graph-div\" style=\"height:320px; width:1090px;\"></div>            <script type=\"text/javascript\">                require([\"plotly\"], function(Plotly) {                    window.PLOTLYENV=window.PLOTLYENV || {};                                    if (document.getElementById(\"94e5395e-2b74-442e-ae3d-241eecb3d045\")) {                    Plotly.newPlot(                        \"94e5395e-2b74-442e-ae3d-241eecb3d045\",                        [{\"hovertemplate\":\"Geography=Claremont Village-Claremont (East)<br>X=%{x}<br>Y=%{y}<br>Number=%{marker.size}<br>text=%{text}<extra></extra>\",\"legendgroup\":\"Claremont Village-Claremont (East)\",\"marker\":{\"color\":\"#636efa\",\"size\":[10386],\"sizemode\":\"area\",\"sizeref\":2.6827160493827162,\"symbol\":\"circle\"},\"mode\":\"markers+text\",\"name\":\"Claremont Village-Claremont (East)\",\"orientation\":\"v\",\"showlegend\":true,\"text\":[\"Claremont Village-Claremont (East)<br>10386<br>43.2%\"],\"x\":[0],\"xaxis\":\"x\",\"y\":[1],\"yaxis\":\"y\",\"type\":\"scatter\",\"textposition\":\"top center\"},{\"hovertemplate\":\"Geography=Melrose<br>X=%{x}<br>Y=%{y}<br>Number=%{marker.size}<br>text=%{text}<extra></extra>\",\"legendgroup\":\"Melrose\",\"marker\":{\"color\":\"#EF553B\",\"size\":[17284],\"sizemode\":\"area\",\"sizeref\":2.6827160493827162,\"symbol\":\"circle\"},\"mode\":\"markers+text\",\"name\":\"Melrose\",\"orientation\":\"v\",\"showlegend\":true,\"text\":[\"Melrose<br>17284<br>40.7%\"],\"x\":[1],\"xaxis\":\"x\",\"y\":[1],\"yaxis\":\"y\",\"type\":\"scatter\",\"textposition\":\"top center\"},{\"hovertemplate\":\"Geography=Morrisania<br>X=%{x}<br>Y=%{y}<br>Number=%{marker.size}<br>text=%{text}<extra></extra>\",\"legendgroup\":\"Morrisania\",\"marker\":{\"color\":\"#00cc96\",\"size\":[12615],\"sizemode\":\"area\",\"sizeref\":2.6827160493827162,\"symbol\":\"circle\"},\"mode\":\"markers+text\",\"name\":\"Morrisania\",\"orientation\":\"v\",\"showlegend\":true,\"text\":[\"Morrisania<br>12615<br>35.7%\"],\"x\":[2],\"xaxis\":\"x\",\"y\":[1],\"yaxis\":\"y\",\"type\":\"scatter\",\"textposition\":\"top center\"},{\"hovertemplate\":\"Geography=Hunts Point<br>X=%{x}<br>Y=%{y}<br>Number=%{marker.size}<br>text=%{text}<extra></extra>\",\"legendgroup\":\"Hunts Point\",\"marker\":{\"color\":\"#ab63fa\",\"size\":[4696],\"sizemode\":\"area\",\"sizeref\":2.6827160493827162,\"symbol\":\"circle\"},\"mode\":\"markers+text\",\"name\":\"Hunts Point\",\"orientation\":\"v\",\"showlegend\":true,\"text\":[\"Hunts Point<br>4696<br>34.3%\"],\"x\":[3],\"xaxis\":\"x\",\"y\":[1],\"yaxis\":\"y\",\"type\":\"scatter\",\"textposition\":\"top center\"},{\"hovertemplate\":\"Geography=Longwood<br>X=%{x}<br>Y=%{y}<br>Number=%{marker.size}<br>text=%{text}<extra></extra>\",\"legendgroup\":\"Longwood\",\"marker\":{\"color\":\"#FFA15A\",\"size\":[12751],\"sizemode\":\"area\",\"sizeref\":2.6827160493827162,\"symbol\":\"circle\"},\"mode\":\"markers+text\",\"name\":\"Longwood\",\"orientation\":\"v\",\"showlegend\":true,\"text\":[\"Longwood<br>12751<br>32.0%\"],\"x\":[4],\"xaxis\":\"x\",\"y\":[1],\"yaxis\":\"y\",\"type\":\"scatter\",\"textposition\":\"top center\"},{\"hovertemplate\":\"Geography=Concourse-Concourse Village<br>X=%{x}<br>Y=%{y}<br>Number=%{marker.size}<br>text=%{text}<extra></extra>\",\"legendgroup\":\"Concourse-Concourse Village\",\"marker\":{\"color\":\"#19d3f3\",\"size\":[21730],\"sizemode\":\"area\",\"sizeref\":2.6827160493827162,\"symbol\":\"circle\"},\"mode\":\"markers+text\",\"name\":\"Concourse-Concourse Village\",\"orientation\":\"v\",\"showlegend\":true,\"text\":[\"Concourse-Concourse Village<br>21730<br>31.9%\"],\"x\":[5],\"xaxis\":\"x\",\"y\":[1],\"yaxis\":\"y\",\"type\":\"scatter\",\"textposition\":\"top center\"},{\"hovertemplate\":\"Geography=Crotona Park East<br>X=%{x}<br>Y=%{y}<br>Number=%{marker.size}<br>text=%{text}<extra></extra>\",\"legendgroup\":\"Crotona Park East\",\"marker\":{\"color\":\"#FF6692\",\"size\":[8519],\"sizemode\":\"area\",\"sizeref\":2.6827160493827162,\"symbol\":\"circle\"},\"mode\":\"markers+text\",\"name\":\"Crotona Park East\",\"orientation\":\"v\",\"showlegend\":true,\"text\":[\"Crotona Park East<br>8519<br>29.4%\"],\"x\":[6],\"xaxis\":\"x\",\"y\":[1],\"yaxis\":\"y\",\"type\":\"scatter\",\"textposition\":\"top center\"}],                        {\"template\":{\"data\":{\"histogram2dcontour\":[{\"type\":\"histogram2dcontour\",\"colorbar\":{\"outlinewidth\":0,\"ticks\":\"\"},\"colorscale\":[[0.0,\"#0d0887\"],[0.1111111111111111,\"#46039f\"],[0.2222222222222222,\"#7201a8\"],[0.3333333333333333,\"#9c179e\"],[0.4444444444444444,\"#bd3786\"],[0.5555555555555556,\"#d8576b\"],[0.6666666666666666,\"#ed7953\"],[0.7777777777777778,\"#fb9f3a\"],[0.8888888888888888,\"#fdca26\"],[1.0,\"#f0f921\"]]}],\"choropleth\":[{\"type\":\"choropleth\",\"colorbar\":{\"outlinewidth\":0,\"ticks\":\"\"}}],\"histogram2d\":[{\"type\":\"histogram2d\",\"colorbar\":{\"outlinewidth\":0,\"ticks\":\"\"},\"colorscale\":[[0.0,\"#0d0887\"],[0.1111111111111111,\"#46039f\"],[0.2222222222222222,\"#7201a8\"],[0.3333333333333333,\"#9c179e\"],[0.4444444444444444,\"#bd3786\"],[0.5555555555555556,\"#d8576b\"],[0.6666666666666666,\"#ed7953\"],[0.7777777777777778,\"#fb9f3a\"],[0.8888888888888888,\"#fdca26\"],[1.0,\"#f0f921\"]]}],\"heatmap\":[{\"type\":\"heatmap\",\"colorbar\":{\"outlinewidth\":0,\"ticks\":\"\"},\"colorscale\":[[0.0,\"#0d0887\"],[0.1111111111111111,\"#46039f\"],[0.2222222222222222,\"#7201a8\"],[0.3333333333333333,\"#9c179e\"],[0.4444444444444444,\"#bd3786\"],[0.5555555555555556,\"#d8576b\"],[0.6666666666666666,\"#ed7953\"],[0.7777777777777778,\"#fb9f3a\"],[0.8888888888888888,\"#fdca26\"],[1.0,\"#f0f921\"]]}],\"heatmapgl\":[{\"type\":\"heatmapgl\",\"colorbar\":{\"outlinewidth\":0,\"ticks\":\"\"},\"colorscale\":[[0.0,\"#0d0887\"],[0.1111111111111111,\"#46039f\"],[0.2222222222222222,\"#7201a8\"],[0.3333333333333333,\"#9c179e\"],[0.4444444444444444,\"#bd3786\"],[0.5555555555555556,\"#d8576b\"],[0.6666666666666666,\"#ed7953\"],[0.7777777777777778,\"#fb9f3a\"],[0.8888888888888888,\"#fdca26\"],[1.0,\"#f0f921\"]]}],\"contourcarpet\":[{\"type\":\"contourcarpet\",\"colorbar\":{\"outlinewidth\":0,\"ticks\":\"\"}}],\"contour\":[{\"type\":\"contour\",\"colorbar\":{\"outlinewidth\":0,\"ticks\":\"\"},\"colorscale\":[[0.0,\"#0d0887\"],[0.1111111111111111,\"#46039f\"],[0.2222222222222222,\"#7201a8\"],[0.3333333333333333,\"#9c179e\"],[0.4444444444444444,\"#bd3786\"],[0.5555555555555556,\"#d8576b\"],[0.6666666666666666,\"#ed7953\"],[0.7777777777777778,\"#fb9f3a\"],[0.8888888888888888,\"#fdca26\"],[1.0,\"#f0f921\"]]}],\"surface\":[{\"type\":\"surface\",\"colorbar\":{\"outlinewidth\":0,\"ticks\":\"\"},\"colorscale\":[[0.0,\"#0d0887\"],[0.1111111111111111,\"#46039f\"],[0.2222222222222222,\"#7201a8\"],[0.3333333333333333,\"#9c179e\"],[0.4444444444444444,\"#bd3786\"],[0.5555555555555556,\"#d8576b\"],[0.6666666666666666,\"#ed7953\"],[0.7777777777777778,\"#fb9f3a\"],[0.8888888888888888,\"#fdca26\"],[1.0,\"#f0f921\"]]}],\"mesh3d\":[{\"type\":\"mesh3d\",\"colorbar\":{\"outlinewidth\":0,\"ticks\":\"\"}}],\"scatter\":[{\"fillpattern\":{\"fillmode\":\"overlay\",\"size\":10,\"solidity\":0.2},\"type\":\"scatter\"}],\"parcoords\":[{\"type\":\"parcoords\",\"line\":{\"colorbar\":{\"outlinewidth\":0,\"ticks\":\"\"}}}],\"scatterpolargl\":[{\"type\":\"scatterpolargl\",\"marker\":{\"colorbar\":{\"outlinewidth\":0,\"ticks\":\"\"}}}],\"bar\":[{\"error_x\":{\"color\":\"#2a3f5f\"},\"error_y\":{\"color\":\"#2a3f5f\"},\"marker\":{\"line\":{\"color\":\"#E5ECF6\",\"width\":0.5},\"pattern\":{\"fillmode\":\"overlay\",\"size\":10,\"solidity\":0.2}},\"type\":\"bar\"}],\"scattergeo\":[{\"type\":\"scattergeo\",\"marker\":{\"colorbar\":{\"outlinewidth\":0,\"ticks\":\"\"}}}],\"scatterpolar\":[{\"type\":\"scatterpolar\",\"marker\":{\"colorbar\":{\"outlinewidth\":0,\"ticks\":\"\"}}}],\"histogram\":[{\"marker\":{\"pattern\":{\"fillmode\":\"overlay\",\"size\":10,\"solidity\":0.2}},\"type\":\"histogram\"}],\"scattergl\":[{\"type\":\"scattergl\",\"marker\":{\"colorbar\":{\"outlinewidth\":0,\"ticks\":\"\"}}}],\"scatter3d\":[{\"type\":\"scatter3d\",\"line\":{\"colorbar\":{\"outlinewidth\":0,\"ticks\":\"\"}},\"marker\":{\"colorbar\":{\"outlinewidth\":0,\"ticks\":\"\"}}}],\"scattermapbox\":[{\"type\":\"scattermapbox\",\"marker\":{\"colorbar\":{\"outlinewidth\":0,\"ticks\":\"\"}}}],\"scatterternary\":[{\"type\":\"scatterternary\",\"marker\":{\"colorbar\":{\"outlinewidth\":0,\"ticks\":\"\"}}}],\"scattercarpet\":[{\"type\":\"scattercarpet\",\"marker\":{\"colorbar\":{\"outlinewidth\":0,\"ticks\":\"\"}}}],\"carpet\":[{\"aaxis\":{\"endlinecolor\":\"#2a3f5f\",\"gridcolor\":\"white\",\"linecolor\":\"white\",\"minorgridcolor\":\"white\",\"startlinecolor\":\"#2a3f5f\"},\"baxis\":{\"endlinecolor\":\"#2a3f5f\",\"gridcolor\":\"white\",\"linecolor\":\"white\",\"minorgridcolor\":\"white\",\"startlinecolor\":\"#2a3f5f\"},\"type\":\"carpet\"}],\"table\":[{\"cells\":{\"fill\":{\"color\":\"#EBF0F8\"},\"line\":{\"color\":\"white\"}},\"header\":{\"fill\":{\"color\":\"#C8D4E3\"},\"line\":{\"color\":\"white\"}},\"type\":\"table\"}],\"barpolar\":[{\"marker\":{\"line\":{\"color\":\"#E5ECF6\",\"width\":0.5},\"pattern\":{\"fillmode\":\"overlay\",\"size\":10,\"solidity\":0.2}},\"type\":\"barpolar\"}],\"pie\":[{\"automargin\":true,\"type\":\"pie\"}]},\"layout\":{\"autotypenumbers\":\"strict\",\"colorway\":[\"#636efa\",\"#EF553B\",\"#00cc96\",\"#ab63fa\",\"#FFA15A\",\"#19d3f3\",\"#FF6692\",\"#B6E880\",\"#FF97FF\",\"#FECB52\"],\"font\":{\"color\":\"#2a3f5f\"},\"hovermode\":\"closest\",\"hoverlabel\":{\"align\":\"left\"},\"paper_bgcolor\":\"white\",\"plot_bgcolor\":\"#E5ECF6\",\"polar\":{\"bgcolor\":\"#E5ECF6\",\"angularaxis\":{\"gridcolor\":\"white\",\"linecolor\":\"white\",\"ticks\":\"\"},\"radialaxis\":{\"gridcolor\":\"white\",\"linecolor\":\"white\",\"ticks\":\"\"}},\"ternary\":{\"bgcolor\":\"#E5ECF6\",\"aaxis\":{\"gridcolor\":\"white\",\"linecolor\":\"white\",\"ticks\":\"\"},\"baxis\":{\"gridcolor\":\"white\",\"linecolor\":\"white\",\"ticks\":\"\"},\"caxis\":{\"gridcolor\":\"white\",\"linecolor\":\"white\",\"ticks\":\"\"}},\"coloraxis\":{\"colorbar\":{\"outlinewidth\":0,\"ticks\":\"\"}},\"colorscale\":{\"sequential\":[[0.0,\"#0d0887\"],[0.1111111111111111,\"#46039f\"],[0.2222222222222222,\"#7201a8\"],[0.3333333333333333,\"#9c179e\"],[0.4444444444444444,\"#bd3786\"],[0.5555555555555556,\"#d8576b\"],[0.6666666666666666,\"#ed7953\"],[0.7777777777777778,\"#fb9f3a\"],[0.8888888888888888,\"#fdca26\"],[1.0,\"#f0f921\"]],\"sequentialminus\":[[0.0,\"#0d0887\"],[0.1111111111111111,\"#46039f\"],[0.2222222222222222,\"#7201a8\"],[0.3333333333333333,\"#9c179e\"],[0.4444444444444444,\"#bd3786\"],[0.5555555555555556,\"#d8576b\"],[0.6666666666666666,\"#ed7953\"],[0.7777777777777778,\"#fb9f3a\"],[0.8888888888888888,\"#fdca26\"],[1.0,\"#f0f921\"]],\"diverging\":[[0,\"#8e0152\"],[0.1,\"#c51b7d\"],[0.2,\"#de77ae\"],[0.3,\"#f1b6da\"],[0.4,\"#fde0ef\"],[0.5,\"#f7f7f7\"],[0.6,\"#e6f5d0\"],[0.7,\"#b8e186\"],[0.8,\"#7fbc41\"],[0.9,\"#4d9221\"],[1,\"#276419\"]]},\"xaxis\":{\"gridcolor\":\"white\",\"linecolor\":\"white\",\"ticks\":\"\",\"title\":{\"standoff\":15},\"zerolinecolor\":\"white\",\"automargin\":true,\"zerolinewidth\":2},\"yaxis\":{\"gridcolor\":\"white\",\"linecolor\":\"white\",\"ticks\":\"\",\"title\":{\"standoff\":15},\"zerolinecolor\":\"white\",\"automargin\":true,\"zerolinewidth\":2},\"scene\":{\"xaxis\":{\"backgroundcolor\":\"#E5ECF6\",\"gridcolor\":\"white\",\"linecolor\":\"white\",\"showbackground\":true,\"ticks\":\"\",\"zerolinecolor\":\"white\",\"gridwidth\":2},\"yaxis\":{\"backgroundcolor\":\"#E5ECF6\",\"gridcolor\":\"white\",\"linecolor\":\"white\",\"showbackground\":true,\"ticks\":\"\",\"zerolinecolor\":\"white\",\"gridwidth\":2},\"zaxis\":{\"backgroundcolor\":\"#E5ECF6\",\"gridcolor\":\"white\",\"linecolor\":\"white\",\"showbackground\":true,\"ticks\":\"\",\"zerolinecolor\":\"white\",\"gridwidth\":2}},\"shapedefaults\":{\"line\":{\"color\":\"#2a3f5f\"}},\"annotationdefaults\":{\"arrowcolor\":\"#2a3f5f\",\"arrowhead\":0,\"arrowwidth\":1},\"geo\":{\"bgcolor\":\"white\",\"landcolor\":\"#E5ECF6\",\"subunitcolor\":\"white\",\"showland\":true,\"showlakes\":true,\"lakecolor\":\"white\"},\"title\":{\"x\":0.05},\"mapbox\":{\"style\":\"light\"}}},\"xaxis\":{\"anchor\":\"y\",\"domain\":[0.0,1.0],\"title\":{\"text\":\"X\"},\"showgrid\":false,\"zeroline\":false,\"visible\":false},\"yaxis\":{\"anchor\":\"x\",\"domain\":[0.0,1.0],\"title\":{\"text\":\"Y\"},\"showgrid\":false,\"zeroline\":false,\"visible\":false},\"legend\":{\"title\":{\"text\":\"Geography\"},\"tracegroupgap\":0,\"itemsizing\":\"constant\"},\"margin\":{\"t\":50,\"l\":0,\"r\":0,\"b\":0},\"width\":1090,\"height\":320,\"showlegend\":false,\"plot_bgcolor\":\"white\",\"paper_bgcolor\":\"white\"},                        {\"responsive\": true}                    ).then(function(){\n",
       "                            \n",
       "var gd = document.getElementById('94e5395e-2b74-442e-ae3d-241eecb3d045');\n",
       "var x = new MutationObserver(function (mutations, observer) {{\n",
       "        var display = window.getComputedStyle(gd).display;\n",
       "        if (!display || display === 'none') {{\n",
       "            console.log([gd, 'removed!']);\n",
       "            Plotly.purge(gd);\n",
       "            observer.disconnect();\n",
       "        }}\n",
       "}});\n",
       "\n",
       "// Listen for the removal of the full notebook cells\n",
       "var notebookContainer = gd.closest('#notebook-container');\n",
       "if (notebookContainer) {{\n",
       "    x.observe(notebookContainer, {childList: true});\n",
       "}}\n",
       "\n",
       "// Listen for the clearing of the current output cell\n",
       "var outputEl = gd.closest('.output');\n",
       "if (outputEl) {{\n",
       "    x.observe(outputEl, {childList: true});\n",
       "}}\n",
       "\n",
       "                        })                };                });            </script>        </div>"
      ]
     },
     "metadata": {},
     "output_type": "display_data"
    }
   ],
   "source": [
    "label = [i+'<br>'+str(j)+'<br>'+str(k)+'%' for i,j,k in zip(sorted_poverty_percentage.Geography,\n",
    "                                                            sorted_poverty_percentage.Number,\n",
    "                                                            sorted_poverty_percentage.Percent)]\n",
    "\n",
    "\n",
    "fig = px.scatter(sorted_poverty_percentage, x='X', y='Y',\n",
    "                 color='Geography',\n",
    "                 size='Number', text=label, size_max=90\n",
    "                )\n",
    "fig.update_layout(width=1090, height=320,\n",
    "                  margin = dict(t=50, l=0, r=0, b=0),\n",
    "                  showlegend=False\n",
    "                 )\n",
    "\n",
    "fig.update_traces(textposition='top center')\n",
    "fig.update_xaxes(showgrid=False, zeroline=False, visible=False)\n",
    "fig.update_yaxes(showgrid=False, zeroline=False, visible=False)\n",
    "fig.update_layout({'plot_bgcolor': 'white',\n",
    "                   'paper_bgcolor': 'white'})\n",
    "fig.show()"
   ]
  },
  {
   "cell_type": "code",
   "execution_count": null,
   "id": "54868563",
   "metadata": {},
   "outputs": [],
   "source": []
  }
 ],
 "metadata": {
  "kernelspec": {
   "display_name": "Python 3 (ipykernel)",
   "language": "python",
   "name": "python3"
  },
  "language_info": {
   "codemirror_mode": {
    "name": "ipython",
    "version": 3
   },
   "file_extension": ".py",
   "mimetype": "text/x-python",
   "name": "python",
   "nbconvert_exporter": "python",
   "pygments_lexer": "ipython3",
   "version": "3.11.3"
  }
 },
 "nbformat": 4,
 "nbformat_minor": 5
}
